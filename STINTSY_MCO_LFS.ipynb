{
 "cells": [
  {
   "cell_type": "markdown",
   "metadata": {},
   "source": [
    "## Section 1. Introduction ##\n",
    "\n",
    "In this notebook, the dataset to be processed is the Labor Force Survey conducted April 2016 and retrieved through Philippine Statistics Authority database. \n",
    "\n"
   ]
  },
  {
   "cell_type": "code",
   "execution_count": 76,
   "metadata": {},
   "outputs": [
    {
     "name": "stdout",
     "output_type": "stream",
     "text": [
      "The autoreload extension is already loaded. To reload it, use:\n",
      "  %reload_ext autoreload\n"
     ]
    }
   ],
   "source": [
    "import numpy as np\n",
    "import pandas as pd\n",
    "\n",
    "\n",
    "import matplotlib.pyplot as plt\n",
    "import seaborn as sns\n",
    "from sklearn.model_selection import train_test_split, cross_val_score, RandomizedSearchCV, GridSearchCV\n",
    "from sklearn.metrics import accuracy_score, classification_report, confusion_matrix\n",
    "from sklearn.tree import DecisionTreeClassifier\n",
    "from sklearn.neighbors import KNeighborsClassifier\n",
    "from scipy.stats import ttest_rel\n",
    "%matplotlib inline\n",
    "\n",
    "\n",
    "plt.rcParams['figure.figsize'] = (6.0, 6.0) # set default size of plots\n",
    "plt.rcParams['image.interpolation'] = 'nearest'\n",
    "plt.rcParams['image.cmap'] = 'gray'\n",
    "\n",
    "plt.style.use('ggplot')\n",
    "\n",
    "# autoreload external python modules;\n",
    "# see http://stackoverflow.com/questions/1907993/autoreload-of-modules-in-ipython\n",
    "%load_ext autoreload\n",
    "%autoreload 2"
   ]
  },
  {
   "cell_type": "markdown",
   "metadata": {},
   "source": [
    "<h1>Importing LFS PUF April 2016.CSV</h1>"
   ]
  },
  {
   "cell_type": "code",
   "execution_count": 77,
   "metadata": {},
   "outputs": [],
   "source": [
    "try:\n",
    "    lfs_data = pd.read_csv(\"src/data/LFS PUF April 2016.CSV\")\n",
    "except FileNotFoundError:\n",
    "    print(\"Error: CSV file not found. Please make sure the file exists in the correct directory or provide the correct path.\")\n",
    "    exit()"
   ]
  },
  {
   "cell_type": "markdown",
   "metadata": {},
   "source": [
    "<h1>Data Information, Pre-Processing, and Cleaning</h1>\n",
    "\n",
    "Let's get an overview of our dataset."
   ]
  },
  {
   "cell_type": "code",
   "execution_count": 78,
   "metadata": {},
   "outputs": [
    {
     "name": "stdout",
     "output_type": "stream",
     "text": [
      "<class 'pandas.core.frame.DataFrame'>\n",
      "RangeIndex: 180862 entries, 0 to 180861\n",
      "Data columns (total 50 columns):\n",
      " #   Column           Non-Null Count   Dtype  \n",
      "---  ------           --------------   -----  \n",
      " 0   PUFREG           180862 non-null  int64  \n",
      " 1   PUFPRV           180862 non-null  int64  \n",
      " 2   PUFPRRCD         180862 non-null  int64  \n",
      " 3   PUFHHNUM         180862 non-null  int64  \n",
      " 4   PUFURB2K10       180862 non-null  int64  \n",
      " 5   PUFPWGTFIN       180862 non-null  float64\n",
      " 6   PUFSVYMO         180862 non-null  int64  \n",
      " 7   PUFSVYYR         180862 non-null  int64  \n",
      " 8   PUFPSU           180862 non-null  int64  \n",
      " 9   PUFRPL           180862 non-null  int64  \n",
      " 10  PUFHHSIZE        180862 non-null  int64  \n",
      " 11  PUFC01_LNO       180862 non-null  int64  \n",
      " 12  PUFC03_REL       180862 non-null  int64  \n",
      " 13  PUFC04_SEX       180862 non-null  int64  \n",
      " 14  PUFC05_AGE       180862 non-null  int64  \n",
      " 15  PUFC06_MSTAT     180862 non-null  object \n",
      " 16  PUFC07_GRADE     180862 non-null  object \n",
      " 17  PUFC08_CURSCH    180862 non-null  object \n",
      " 18  PUFC09_GRADTECH  180862 non-null  object \n",
      " 19  PUFC10_CONWR     180862 non-null  object \n",
      " 20  PUFC11_WORK      180862 non-null  object \n",
      " 21  PUFC12_JOB       180862 non-null  object \n",
      " 22  PUFC14_PROCC     180862 non-null  object \n",
      " 23  PUFC16_PKB       180862 non-null  object \n",
      " 24  PUFC17_NATEM     180862 non-null  object \n",
      " 25  PUFC18_PNWHRS    180862 non-null  object \n",
      " 26  PUFC19_PHOURS    180862 non-null  object \n",
      " 27  PUFC20_PWMORE    180862 non-null  object \n",
      " 28  PUFC21_PLADDW    180862 non-null  object \n",
      " 29  PUFC22_PFWRK     180862 non-null  object \n",
      " 30  PUFC23_PCLASS    180862 non-null  object \n",
      " 31  PUFC24_PBASIS    180862 non-null  object \n",
      " 32  PUFC25_PBASIC    180862 non-null  object \n",
      " 33  PUFC26_OJOB      180862 non-null  object \n",
      " 34  PUFC27_NJOBS     180862 non-null  object \n",
      " 35  PUFC28_THOURS    180862 non-null  object \n",
      " 36  PUFC29_WWM48H    180862 non-null  object \n",
      " 37  PUFC30_LOOKW     180862 non-null  object \n",
      " 38  PUFC31_FLWRK     180862 non-null  object \n",
      " 39  PUFC32_JOBSM     180862 non-null  object \n",
      " 40  PUFC33_WEEKS     180862 non-null  object \n",
      " 41  PUFC34_WYNOT     180862 non-null  object \n",
      " 42  PUFC35_LTLOOKW   180862 non-null  object \n",
      " 43  PUFC36_AVAIL     180862 non-null  object \n",
      " 44  PUFC37_WILLING   180862 non-null  object \n",
      " 45  PUFC38_PREVJOB   180862 non-null  object \n",
      " 46  PUFC40_POCC      180862 non-null  object \n",
      " 47  PUFC41_WQTR      180862 non-null  object \n",
      " 48  PUFC43_QKB       180862 non-null  object \n",
      " 49  PUFNEWEMPSTAT    180862 non-null  object \n",
      "dtypes: float64(1), int64(14), object(35)\n",
      "memory usage: 69.0+ MB\n"
     ]
    }
   ],
   "source": [
    "lfs_data.info()"
   ]
  },
  {
   "cell_type": "markdown",
   "metadata": {},
   "source": [
    "---\n",
    "Of interest to us, there are:\n",
    "<ul><li>1 contains float values, </li>\n",
    "<li>14 contain integer values, and </li>\n",
    "<li><b>35 are object values</b>.</li></ul>\n"
   ]
  },
  {
   "cell_type": "markdown",
   "metadata": {},
   "source": [
    "---\n",
    "Let's check for duplicates:"
   ]
  },
  {
   "cell_type": "code",
   "execution_count": 79,
   "metadata": {},
   "outputs": [
    {
     "data": {
      "text/plain": [
       "np.int64(0)"
      ]
     },
     "execution_count": 79,
     "metadata": {},
     "output_type": "execute_result"
    }
   ],
   "source": [
    "lfs_data.duplicated().sum()"
   ]
  },
  {
   "cell_type": "markdown",
   "metadata": {},
   "source": [
    "No duplicates here, and therefore no cleaning need follow in this regard."
   ]
  },
  {
   "cell_type": "markdown",
   "metadata": {},
   "source": [
    "The dataset seems to contain null values in the form of whitespaces. Let's count those:"
   ]
  },
  {
   "cell_type": "code",
   "execution_count": 80,
   "metadata": {},
   "outputs": [
    {
     "name": "stdout",
     "output_type": "stream",
     "text": [
      "Number Empty Cells:\n",
      "PUFC06_MSTAT        18339\n",
      "PUFC07_GRADE        18339\n",
      "PUFC08_CURSCH      107137\n",
      "PUFC09_GRADTECH     57782\n",
      "PUFC10_CONWR        57782\n",
      "PUFC11_WORK         21894\n",
      "PUFC12_JOB          93306\n",
      "PUFC14_PROCC       108360\n",
      "PUFC16_PKB         108360\n",
      "PUFC17_NATEM       109507\n",
      "PUFC18_PNWHRS      109507\n",
      "PUFC19_PHOURS      109507\n",
      "PUFC20_PWMORE      109507\n",
      "PUFC21_PLADDW      109507\n",
      "PUFC22_PFWRK       109507\n",
      "PUFC23_PCLASS      109507\n",
      "PUFC24_PBASIS      138947\n",
      "PUFC25_PBASIC      144274\n",
      "PUFC26_OJOB        109507\n",
      "PUFC27_NJOBS       174924\n",
      "PUFC28_THOURS      109507\n",
      "PUFC29_WWM48H      163629\n",
      "PUFC30_LOOKW       132692\n",
      "PUFC31_FLWRK       178569\n",
      "PUFC32_JOBSM       178569\n",
      "PUFC33_WEEKS       178569\n",
      "PUFC34_WYNOT       134985\n",
      "PUFC35_LTLOOKW     179269\n",
      "PUFC36_AVAIL       174893\n",
      "PUFC37_WILLING     174893\n",
      "PUFC38_PREVJOB     132692\n",
      "PUFC40_POCC        152982\n",
      "PUFC41_WQTR         81627\n",
      "PUFC43_QKB         107825\n",
      "PUFNEWEMPSTAT       61337\n",
      "dtype: int64\n"
     ]
    }
   ],
   "source": [
    "has_null = lfs_data.apply(lambda col: col.str.isspace().sum() if col.dtype == 'object' else 0)\n",
    "\n",
    "print(\"Number Empty Cells:\")\n",
    "print(has_null[has_null > 0])"
   ]
  },
  {
   "cell_type": "markdown",
   "metadata": {},
   "source": [
    "---\n",
    "And standardize, replacing these whitespace values with -1:"
   ]
  },
  {
   "cell_type": "code",
   "execution_count": 81,
   "metadata": {},
   "outputs": [
    {
     "name": "stdout",
     "output_type": "stream",
     "text": [
      "Series([], dtype: int64)\n"
     ]
    }
   ],
   "source": [
    "lfs_data.replace(r\"^\\s+$\", -1, regex=True, inplace=True)\n",
    "nan_counts_per_column = lfs_data.isna().sum()\n",
    "print(nan_counts_per_column[nan_counts_per_column > 0])"
   ]
  },
  {
   "cell_type": "markdown",
   "metadata": {},
   "source": [
    "Now that these are -1, let's return to the data types, and find if our object columns from earlier are convertible to integers (or float):"
   ]
  },
  {
   "cell_type": "code",
   "execution_count": 82,
   "metadata": {},
   "outputs": [
    {
     "name": "stdout",
     "output_type": "stream",
     "text": [
      "Safely convertable to int:\n",
      "['PUFC06_MSTAT', 'PUFC07_GRADE', 'PUFC08_CURSCH', 'PUFC09_GRADTECH', 'PUFC10_CONWR', 'PUFC11_WORK', 'PUFC12_JOB', 'PUFC14_PROCC', 'PUFC16_PKB', 'PUFC17_NATEM', 'PUFC18_PNWHRS', 'PUFC19_PHOURS', 'PUFC20_PWMORE', 'PUFC21_PLADDW', 'PUFC22_PFWRK', 'PUFC23_PCLASS', 'PUFC24_PBASIS', 'PUFC25_PBASIC', 'PUFC26_OJOB', 'PUFC27_NJOBS', 'PUFC28_THOURS', 'PUFC29_WWM48H', 'PUFC30_LOOKW', 'PUFC31_FLWRK', 'PUFC32_JOBSM', 'PUFC33_WEEKS', 'PUFC34_WYNOT', 'PUFC35_LTLOOKW', 'PUFC36_AVAIL', 'PUFC37_WILLING', 'PUFC38_PREVJOB', 'PUFC40_POCC', 'PUFC41_WQTR', 'PUFC43_QKB', 'PUFNEWEMPSTAT']\n"
     ]
    }
   ],
   "source": [
    "int_convertible_columns = []\n",
    "\n",
    "for col in lfs_data.columns:\n",
    "    if lfs_data[col].dtypes == 'object':  \n",
    "        try:\n",
    "            float_vals = lfs_data[col].dropna().astype(float)\n",
    "            if (float_vals % 1 == 0).all():\n",
    "                int_convertible_columns.append(col)\n",
    "        except ValueError:\n",
    "            pass \n",
    "\n",
    "print(\"Safely convertable to int:\")\n",
    "print(int_convertible_columns)"
   ]
  },
  {
   "cell_type": "markdown",
   "metadata": {},
   "source": [
    "---\n",
    "And convert to int"
   ]
  },
  {
   "cell_type": "code",
   "execution_count": 83,
   "metadata": {},
   "outputs": [],
   "source": [
    "columns_to_convert = [\n",
    "    'PUFC06_MSTAT', 'PUFC08_CURSCH', 'PUFC09_GRADTECH', 'PUFC10_CONWR', 'PUFC11_WORK', \n",
    "    'PUFC12_JOB', 'PUFC14_PROCC', 'PUFC16_PKB', 'PUFC17_NATEM', 'PUFC18_PNWHRS', \n",
    "    'PUFC19_PHOURS', 'PUFC20_PWMORE', 'PUFC21_PLADDW', 'PUFC22_PFWRK', 'PUFC23_PCLASS', \n",
    "    'PUFC24_PBASIS', 'PUFC25_PBASIC', 'PUFC26_OJOB', 'PUFC27_NJOBS', 'PUFC28_THOURS', \n",
    "    'PUFC29_WWM48H', 'PUFC30_LOOKW', 'PUFC31_FLWRK', 'PUFC32_JOBSM', 'PUFC33_WEEKS', \n",
    "    'PUFC34_WYNOT', 'PUFC35_LTLOOKW', 'PUFC36_AVAIL', 'PUFC37_WILLING', 'PUFC38_PREVJOB', \n",
    "    'PUFC40_POCC', 'PUFC41_WQTR', 'PUFC43_QKB', 'PUFNEWEMPSTAT'\n",
    "]\n",
    "\n",
    "for col in columns_to_convert:\n",
    "    lfs_data[col] = lfs_data[col].astype(int) "
   ]
  },
  {
   "cell_type": "markdown",
   "metadata": {},
   "source": [
    "---\n",
    "Let's also apply the unique() function to our dataset."
   ]
  },
  {
   "cell_type": "code",
   "execution_count": 84,
   "metadata": {},
   "outputs": [
    {
     "data": {
      "text/plain": [
       "PUFREG                17\n",
       "PUFPRV                86\n",
       "PUFPRRCD             116\n",
       "PUFHHNUM           40880\n",
       "PUFURB2K10             2\n",
       "PUFPWGTFIN         35599\n",
       "PUFSVYMO               1\n",
       "PUFSVYYR               1\n",
       "PUFPSU               975\n",
       "PUFRPL                 4\n",
       "PUFHHSIZE             20\n",
       "PUFC01_LNO            23\n",
       "PUFC03_REL            11\n",
       "PUFC04_SEX             2\n",
       "PUFC05_AGE           100\n",
       "PUFC06_MSTAT           7\n",
       "PUFC07_GRADE          68\n",
       "PUFC08_CURSCH          3\n",
       "PUFC09_GRADTECH        3\n",
       "PUFC10_CONWR           6\n",
       "PUFC11_WORK            3\n",
       "PUFC12_JOB             3\n",
       "PUFC14_PROCC          44\n",
       "PUFC16_PKB            88\n",
       "PUFC17_NATEM           4\n",
       "PUFC18_PNWHRS         17\n",
       "PUFC19_PHOURS        103\n",
       "PUFC20_PWMORE          3\n",
       "PUFC21_PLADDW          3\n",
       "PUFC22_PFWRK           3\n",
       "PUFC23_PCLASS          8\n",
       "PUFC24_PBASIS          9\n",
       "PUFC25_PBASIC       1152\n",
       "PUFC26_OJOB            3\n",
       "PUFC27_NJOBS           6\n",
       "PUFC28_THOURS        111\n",
       "PUFC29_WWM48H          6\n",
       "PUFC30_LOOKW           3\n",
       "PUFC31_FLWRK           3\n",
       "PUFC32_JOBSM           7\n",
       "PUFC33_WEEKS          36\n",
       "PUFC34_WYNOT          10\n",
       "PUFC35_LTLOOKW         4\n",
       "PUFC36_AVAIL           3\n",
       "PUFC37_WILLING         3\n",
       "PUFC38_PREVJOB         3\n",
       "PUFC40_POCC           44\n",
       "PUFC41_WQTR            3\n",
       "PUFC43_QKB            89\n",
       "PUFNEWEMPSTAT          4\n",
       "dtype: int64"
      ]
     },
     "execution_count": 84,
     "metadata": {},
     "output_type": "execute_result"
    }
   ],
   "source": [
    "lfs_data.apply(lambda x: x.nunique())"
   ]
  },
  {
   "cell_type": "markdown",
   "metadata": {},
   "source": [
    "---\n",
    "Considering our dataset has 18,000 entries, features with particularly low numbers stand out as questions that have clear, defined choices. Reviewing the [questionnaire](https://psada.psa.gov.ph/catalog/67/download/537), we find that certain questions ask the participant to specify beyond prespecified choices.\n",
    "\n",
    "This column possibly contains \"010,\" which is obviously not an integer. We ensure this column is a string, and check for values not specified in the questionnaire."
   ]
  },
  {
   "cell_type": "code",
   "execution_count": 85,
   "metadata": {},
   "outputs": [
    {
     "name": "stdout",
     "output_type": "stream",
     "text": [
      "['350' '320' '250' -1 '622' '672' '240' '220' '614' '330' '010' '280'\n",
      " '632' '310' '000' '900' '820' '230' '589' '572' '210' '830' '810' '634'\n",
      " '686' '581' '681' '552' '534' '840' '658' '548' '648' '652' '662' '601'\n",
      " '642' '562' '260' '685' '631' '684' '340' '584' '621' '410' '420' '664'\n",
      " '676' '521' '638' '554' '646' '689' '522' '654' '644' '532' '531' '514'\n",
      " '558' '501' '586' '542' '576' '544' '585' '564']\n"
     ]
    }
   ],
   "source": [
    "lfs_data['PUFC07_GRADE'] = lfs_data['PUFC07_GRADE']\n",
    "valid_codes = [\n",
    "    0, 10,  # No Grade, Preschool\n",
    "    210, 220, 230, 240, 250, 260, 280,  # Elementary\n",
    "    310, 320, 330, 340, 350,  # High School\n",
    "    410, 420,  # Post Secondary; If Graduate Specify\n",
    "    810, 820, 830, 840,  # College; If Graduate Specify\n",
    "    900,  # Post Baccalaureate\n",
    "    np.nan\n",
    "]\n",
    "invalid_rows = lfs_data[~(lfs_data['PUFC07_GRADE'].isin(valid_codes))]\n",
    "\n",
    "unique_invalid_values = invalid_rows['PUFC07_GRADE'].unique()\n",
    "print(unique_invalid_values)"
   ]
  },
  {
   "cell_type": "markdown",
   "metadata": {},
   "source": [
    "Values 5XX 6XX are not detailed in the questionnaire. As it instructs the participant to specify whether they graduated from post secondary or college, we'll create a new data point to encapsulate these."
   ]
  },
  {
   "cell_type": "code",
   "execution_count": 86,
   "metadata": {},
   "outputs": [
    {
     "name": "stdout",
     "output_type": "stream",
     "text": [
      "[700]\n"
     ]
    }
   ],
   "source": [
    "lfs_data.loc[~lfs_data['PUFC07_GRADE'].isin(valid_codes), 'PUFC07_GRADE'] = 700\n",
    "print(lfs_data['PUFC07_GRADE'].unique())"
   ]
  },
  {
   "cell_type": "markdown",
   "metadata": {},
   "source": []
  },
  {
   "cell_type": "code",
   "execution_count": 87,
   "metadata": {},
   "outputs": [
    {
     "data": {
      "text/plain": [
       "PUFC11_WORK\n",
       " 2    87556\n",
       " 1    71412\n",
       "-1    21894\n",
       "Name: count, dtype: int64"
      ]
     },
     "execution_count": 87,
     "metadata": {},
     "output_type": "execute_result"
    }
   ],
   "source": [
    "lfs_data['PUFC11_WORK'].value_counts()"
   ]
  },
  {
   "cell_type": "markdown",
   "metadata": {},
   "source": [
    "## EDA"
   ]
  },
  {
   "cell_type": "code",
   "execution_count": 88,
   "metadata": {},
   "outputs": [
    {
     "name": "stdout",
     "output_type": "stream",
     "text": [
      "Strong correlations (|corr| > 0.5 and |corr| < 1):\n",
      "PUFPRV — PUFPRRCD: 1.000\n",
      "PUFREG — PUFHHNUM: 0.995\n",
      "PUFC19_PHOURS — PUFC28_THOURS: 0.972\n",
      "PUFC16_PKB — PUFC43_QKB: 0.969\n",
      "PUFC11_WORK — PUFNEWEMPSTAT: 0.964\n",
      "PUFC41_WQTR — PUFNEWEMPSTAT: 0.878\n",
      "PUFC11_WORK — PUFC41_WQTR: 0.852\n",
      "PUFC31_FLWRK — PUFC38_PREVJOB: -0.795\n",
      "PUFC36_AVAIL — PUFC37_WILLING: 0.785\n",
      "PUFC37_WILLING — PUFNEWEMPSTAT: 0.785\n",
      "PUFC18_PNWHRS — PUFC19_PHOURS: 0.785\n",
      "PUFC18_PNWHRS — PUFC28_THOURS: 0.769\n",
      "PUFPWGTFIN — PUFPSU: 0.709\n",
      "PUFC12_JOB — PUFNEWEMPSTAT: 0.704\n",
      "PUFC05_AGE — PUFC06_MSTAT: 0.701\n",
      "PUFC34_WYNOT — PUFNEWEMPSTAT: 0.631\n",
      "PUFC30_LOOKW — PUFNEWEMPSTAT: 0.625\n",
      "PUFC01_LNO — PUFC03_REL: 0.625\n",
      "PUFC05_AGE — PUFC08_CURSCH: 0.590\n",
      "PUFHHSIZE — PUFC01_LNO: 0.571\n",
      "PUFC01_LNO — PUFC05_AGE: -0.567\n",
      "PUFC20_PWMORE — PUFC21_PLADDW: 0.556\n",
      "PUFC08_CURSCH — PUFC11_WORK: -0.514\n",
      "PUFC08_CURSCH — PUFC34_WYNOT: -0.510\n",
      "PUFC08_CURSCH — PUFNEWEMPSTAT: -0.509\n"
     ]
    }
   ],
   "source": [
    "lfs_data_with_nan = lfs_data.copy()\n",
    "lfs_data_with_nan.replace(-1, np.nan, inplace=True)\n",
    "corr_matrix = lfs_data_with_nan.corr()\n",
    "\n",
    "strong_correlations = []\n",
    "for i in range(len(corr_matrix.columns)):\n",
    "    for j in range(i + 1, len(corr_matrix.columns)): \n",
    "        corr_value = corr_matrix.iloc[i, j]\n",
    "        if (0.5 < corr_value < 1) or (-1 < corr_value < -0.5):\n",
    "            strong_correlations.append((\n",
    "                corr_matrix.index[i], \n",
    "                corr_matrix.columns[j], \n",
    "                corr_value\n",
    "            ))\n",
    "\n",
    "strong_correlations.sort(key=lambda x: abs(x[2]), reverse=True)\n",
    "\n",
    "print(\"Strong correlations (|corr| > 0.5 and |corr| < 1):\")\n",
    "for var1, var2, corr in strong_correlations:\n",
    "    print(f\"{var1} — {var2}: {corr:.3f}\")\n"
   ]
  },
  {
   "cell_type": "markdown",
   "metadata": {},
   "source": [
    "We will use feature_cols as our predictor variables for PUFC11_WORK. Using Regression, we will evaluate how well we can predict whether or not someone has worked in the past week. We begin with preprocessing.\n",
    "\n",
    "### Logistic Regression (LR)\n",
    "Because this is a classification task, we can choose Logistic Regression as a baseline and a first model. In theory, PUFC11_WORK is a binary classification task, something that Logistic Regression should excel at. Since this uses a sigmoid function to map linear probabilities, between 0 and 1, making this suitable for determining whether someone \"worked\" (1) or \"did not work\" (0) within the past week. Finally, LR is particularly interpetable considering the task we're doing, allowing us to check the significance and coefficients associated with each predictor variable if need be.\n",
    "\n",
    "#### Preprocessing: LR\n",
    "We create a copy of our target variable PUFC11_WORK, and create five 80-20 train-test splits for the non-empty PUFC11 data we have. We'll also perform one-hot encoding, given our feature columns are all categorical. We also map the values of PUFC11, normally [1,2], to [0,1]. In addition, because we've determined that our feature_cols are intentionally unanswered as appropriate, we will be treating these values as empty rather than imputing."
   ]
  },
  {
   "cell_type": "code",
   "execution_count": 89,
   "metadata": {},
   "outputs": [
    {
     "name": "stdout",
     "output_type": "stream",
     "text": [
      "Preparing data for k-fold cross-validation...\n",
      "Training on 127174 samples with 9 features\n",
      "Testing on 31794 samples\n",
      "Features: ['PUFC05_AGE', 'PUFC06_MSTAT', 'PUFC04_SEX', 'PUFC07_GRADE', 'PUFC08_CURSCH', 'PUFC38_PREVJOB', 'PUFC31_FLWRK', 'PUFC30_LOOKW', 'PUFC34_WYNOT']\n",
      "Training on 127174 samples with 9 features\n",
      "Testing on 31794 samples\n",
      "Features: ['PUFC05_AGE', 'PUFC06_MSTAT', 'PUFC04_SEX', 'PUFC07_GRADE', 'PUFC08_CURSCH', 'PUFC38_PREVJOB', 'PUFC31_FLWRK', 'PUFC30_LOOKW', 'PUFC34_WYNOT']\n",
      "Training on 127174 samples with 9 features\n",
      "Testing on 31794 samples\n",
      "Features: ['PUFC05_AGE', 'PUFC06_MSTAT', 'PUFC04_SEX', 'PUFC07_GRADE', 'PUFC08_CURSCH', 'PUFC38_PREVJOB', 'PUFC31_FLWRK', 'PUFC30_LOOKW', 'PUFC34_WYNOT']\n",
      "Training on 127175 samples with 9 features\n",
      "Testing on 31793 samples\n",
      "Features: ['PUFC05_AGE', 'PUFC06_MSTAT', 'PUFC04_SEX', 'PUFC07_GRADE', 'PUFC08_CURSCH', 'PUFC38_PREVJOB', 'PUFC31_FLWRK', 'PUFC30_LOOKW', 'PUFC34_WYNOT']\n",
      "Training on 127175 samples with 9 features\n",
      "Testing on 31793 samples\n",
      "Features: ['PUFC05_AGE', 'PUFC06_MSTAT', 'PUFC04_SEX', 'PUFC07_GRADE', 'PUFC08_CURSCH', 'PUFC38_PREVJOB', 'PUFC31_FLWRK', 'PUFC30_LOOKW', 'PUFC34_WYNOT']\n"
     ]
    }
   ],
   "source": [
    "from src.preprocessing import prepare_data_kfold\n",
    "\n",
    "target_col = 'PUFC11_WORK'\n",
    "feature_cols = [\n",
    "    'PUFC05_AGE', 'PUFC06_MSTAT', 'PUFC04_SEX', \n",
    "    'PUFC07_GRADE', 'PUFC08_CURSCH', \n",
    "    'PUFC38_PREVJOB', 'PUFC31_FLWRK',\n",
    "    'PUFC30_LOOKW', 'PUFC34_WYNOT'\n",
    "]\n",
    "\n",
    "categorical_cols = feature_cols\n",
    "n_splits = 5\n",
    "missing_value =-1\n",
    "seed = 45\n",
    "\n",
    "folds_data = prepare_data_kfold(lfs_data, target_col = target_col,\n",
    "                         n_splits = n_splits,\n",
    "                         missing_value = missing_value,\n",
    "                         categorical_cols = categorical_cols,\n",
    "                         feature_cols = feature_cols,\n",
    "                         seed = seed)"
   ]
  },
  {
   "cell_type": "markdown",
   "metadata": {},
   "source": [
    "#### Training: LR\n",
    "We are ready to start training. As we are setting a baseline, we'll start off with these hyperparameters. We'll use Stochastic Gradient Descent as our specified optimizer, though technically implementing mini-batch with a batch size of 128. We are looking for improvements in loss greater than 0.0001, else we stop early within three epochs. Lastly, we use a weight_decay of 0, indicating no regularization for now. All hyperparameters indicated below also indicate their default value if unspecified. For each convergence, we will track the metrics of that fold and aggregate it across all folds."
   ]
  },
  {
   "cell_type": "code",
   "execution_count": 90,
   "metadata": {},
   "outputs": [
    {
     "name": "stdout",
     "output_type": "stream",
     "text": [
      "\n",
      "==================== FOLD 1 ====================\n",
      "Epoch 1/50: Train Loss: 0.2033, Test Loss: 0.1086, Train Acc: 0.9550, Test Acc: 0.9817, LR: 0.010000\n",
      "Epoch 2/50: Train Loss: 0.0949, Test Loss: 0.0863, Train Acc: 0.9846, Test Acc: 0.9857, LR: 0.010000\n",
      "Epoch 3/50: Train Loss: 0.0818, Test Loss: 0.0789, Train Acc: 0.9862, Test Acc: 0.9857, LR: 0.010000\n",
      "Epoch 4/50: Train Loss: 0.0765, Test Loss: 0.0752, Train Acc: 0.9862, Test Acc: 0.9857, LR: 0.010000\n",
      "Epoch 5/50: Train Loss: 0.0736, Test Loss: 0.0731, Train Acc: 0.9862, Test Acc: 0.9857, LR: 0.005000\n",
      "Epoch 6/50: Train Loss: 0.0721, Test Loss: 0.0723, Train Acc: 0.9862, Test Acc: 0.9857, LR: 0.005000\n",
      "Epoch 7/50: Train Loss: 0.0714, Test Loss: 0.0717, Train Acc: 0.9862, Test Acc: 0.9857, LR: 0.005000\n",
      "Epoch 8/50: Train Loss: 0.0708, Test Loss: 0.0712, Train Acc: 0.9862, Test Acc: 0.9857, LR: 0.005000\n",
      "Epoch 9/50: Train Loss: 0.0702, Test Loss: 0.0707, Train Acc: 0.9862, Test Acc: 0.9857, LR: 0.005000\n",
      "Epoch 10/50: Train Loss: 0.0698, Test Loss: 0.0703, Train Acc: 0.9862, Test Acc: 0.9857, LR: 0.002500\n",
      "Epoch 11/50: Train Loss: 0.0694, Test Loss: 0.0702, Train Acc: 0.9862, Test Acc: 0.9857, LR: 0.002500\n",
      "Epoch 12/50: Train Loss: 0.0693, Test Loss: 0.0700, Train Acc: 0.9862, Test Acc: 0.9857, LR: 0.002500\n",
      "Epoch 13/50: Train Loss: 0.0691, Test Loss: 0.0699, Train Acc: 0.9862, Test Acc: 0.9857, LR: 0.002500\n",
      "Epoch 14/50: Train Loss: 0.0689, Test Loss: 0.0697, Train Acc: 0.9862, Test Acc: 0.9857, LR: 0.002500\n",
      "Epoch 15/50: Train Loss: 0.0688, Test Loss: 0.0696, Train Acc: 0.9862, Test Acc: 0.9857, LR: 0.001250\n",
      "Epoch 16/50: Train Loss: 0.0687, Test Loss: 0.0695, Train Acc: 0.9862, Test Acc: 0.9857, LR: 0.001250\n",
      "Epoch 17/50: Train Loss: 0.0686, Test Loss: 0.0695, Train Acc: 0.9862, Test Acc: 0.9857, LR: 0.001250\n",
      "Epoch 18/50: Train Loss: 0.0686, Test Loss: 0.0694, Train Acc: 0.9862, Test Acc: 0.9857, LR: 0.001250\n",
      "Epoch 19/50: Train Loss: 0.0685, Test Loss: 0.0694, Train Acc: 0.9862, Test Acc: 0.9857, LR: 0.001250\n",
      "Epoch 20/50: Train Loss: 0.0684, Test Loss: 0.0693, Train Acc: 0.9862, Test Acc: 0.9857, LR: 0.000625\n",
      "Epoch 21/50: Train Loss: 0.0683, Test Loss: 0.0693, Train Acc: 0.9862, Test Acc: 0.9857, LR: 0.000625\n",
      "Epoch 22/50: Train Loss: 0.0683, Test Loss: 0.0692, Train Acc: 0.9862, Test Acc: 0.9857, LR: 0.000625\n",
      "Epoch 23/50: Train Loss: 0.0683, Test Loss: 0.0692, Train Acc: 0.9862, Test Acc: 0.9857, LR: 0.000625\n",
      "Epoch 24/50: Train Loss: 0.0683, Test Loss: 0.0692, Train Acc: 0.9862, Test Acc: 0.9857, LR: 0.000625\n",
      "Epoch 25/50: Train Loss: 0.0682, Test Loss: 0.0692, Train Acc: 0.9862, Test Acc: 0.9857, LR: 0.000313\n",
      "Early stopping triggered after 25 epochs.\n",
      "\n",
      "Confusion Matrix:\n",
      "[[14052   250]\n",
      " [  206 17286]]\n",
      "\n",
      "Classification Report:\n",
      "              precision    recall  f1-score   support\n",
      "\n",
      "         0.0  0.98555197 0.98251993 0.98403361     14302\n",
      "         1.0  0.98574361 0.98822319 0.98698184     17492\n",
      "\n",
      "    accuracy                      0.98565767     31794\n",
      "   macro avg  0.98564779 0.98537156 0.98550773     31794\n",
      "weighted avg  0.98565741 0.98565767 0.98565563     31794\n",
      "\n",
      "\n",
      "==================== FOLD 2 ====================\n",
      "Epoch 1/50: Train Loss: 0.2028, Test Loss: 0.1088, Train Acc: 0.9556, Test Acc: 0.9821, LR: 0.010000\n",
      "Epoch 2/50: Train Loss: 0.0946, Test Loss: 0.0868, Train Acc: 0.9846, Test Acc: 0.9860, LR: 0.010000\n",
      "Epoch 3/50: Train Loss: 0.0816, Test Loss: 0.0795, Train Acc: 0.9861, Test Acc: 0.9860, LR: 0.010000\n",
      "Epoch 4/50: Train Loss: 0.0763, Test Loss: 0.0758, Train Acc: 0.9861, Test Acc: 0.9860, LR: 0.010000\n",
      "Epoch 5/50: Train Loss: 0.0735, Test Loss: 0.0736, Train Acc: 0.9861, Test Acc: 0.9860, LR: 0.005000\n",
      "Epoch 6/50: Train Loss: 0.0720, Test Loss: 0.0728, Train Acc: 0.9861, Test Acc: 0.9860, LR: 0.005000\n",
      "Epoch 7/50: Train Loss: 0.0712, Test Loss: 0.0722, Train Acc: 0.9861, Test Acc: 0.9860, LR: 0.005000\n",
      "Epoch 8/50: Train Loss: 0.0706, Test Loss: 0.0717, Train Acc: 0.9861, Test Acc: 0.9860, LR: 0.005000\n",
      "Epoch 9/50: Train Loss: 0.0701, Test Loss: 0.0712, Train Acc: 0.9861, Test Acc: 0.9860, LR: 0.005000\n",
      "Epoch 10/50: Train Loss: 0.0697, Test Loss: 0.0708, Train Acc: 0.9861, Test Acc: 0.9860, LR: 0.002500\n",
      "Epoch 11/50: Train Loss: 0.0694, Test Loss: 0.0706, Train Acc: 0.9861, Test Acc: 0.9860, LR: 0.002500\n",
      "Epoch 12/50: Train Loss: 0.0692, Test Loss: 0.0704, Train Acc: 0.9861, Test Acc: 0.9860, LR: 0.002500\n",
      "Epoch 13/50: Train Loss: 0.0690, Test Loss: 0.0703, Train Acc: 0.9861, Test Acc: 0.9860, LR: 0.002500\n",
      "Epoch 14/50: Train Loss: 0.0688, Test Loss: 0.0701, Train Acc: 0.9861, Test Acc: 0.9860, LR: 0.002500\n",
      "Epoch 15/50: Train Loss: 0.0687, Test Loss: 0.0700, Train Acc: 0.9861, Test Acc: 0.9860, LR: 0.001250\n",
      "Epoch 16/50: Train Loss: 0.0686, Test Loss: 0.0699, Train Acc: 0.9861, Test Acc: 0.9860, LR: 0.001250\n",
      "Epoch 17/50: Train Loss: 0.0686, Test Loss: 0.0699, Train Acc: 0.9861, Test Acc: 0.9860, LR: 0.001250\n",
      "Epoch 18/50: Train Loss: 0.0685, Test Loss: 0.0698, Train Acc: 0.9861, Test Acc: 0.9860, LR: 0.001250\n",
      "Epoch 19/50: Train Loss: 0.0684, Test Loss: 0.0697, Train Acc: 0.9861, Test Acc: 0.9860, LR: 0.001250\n",
      "Epoch 20/50: Train Loss: 0.0684, Test Loss: 0.0697, Train Acc: 0.9861, Test Acc: 0.9860, LR: 0.000625\n",
      "Epoch 21/50: Train Loss: 0.0684, Test Loss: 0.0696, Train Acc: 0.9861, Test Acc: 0.9860, LR: 0.000625\n",
      "Epoch 22/50: Train Loss: 0.0683, Test Loss: 0.0696, Train Acc: 0.9861, Test Acc: 0.9860, LR: 0.000625\n",
      "Epoch 23/50: Train Loss: 0.0682, Test Loss: 0.0696, Train Acc: 0.9861, Test Acc: 0.9860, LR: 0.000625\n",
      "Epoch 24/50: Train Loss: 0.0682, Test Loss: 0.0696, Train Acc: 0.9861, Test Acc: 0.9860, LR: 0.000625\n",
      "Epoch 25/50: Train Loss: 0.0682, Test Loss: 0.0695, Train Acc: 0.9861, Test Acc: 0.9860, LR: 0.000313\n",
      "Early stopping triggered after 25 epochs.\n",
      "\n",
      "Confusion Matrix:\n",
      "[[13960   226]\n",
      " [  219 17389]]\n",
      "\n",
      "Classification Report:\n",
      "              precision    recall  f1-score   support\n",
      "\n",
      "         0.0  0.98455462 0.98406880 0.98431165     14186\n",
      "         1.0  0.98717003 0.98756247 0.98736621     17608\n",
      "\n",
      "    accuracy                      0.98600365     31794\n",
      "   macro avg  0.98586232 0.98581564 0.98583893     31794\n",
      "weighted avg  0.98600307 0.98600365 0.98600331     31794\n",
      "\n",
      "\n",
      "==================== FOLD 3 ====================\n",
      "Epoch 1/50: Train Loss: 0.2034, Test Loss: 0.1080, Train Acc: 0.9550, Test Acc: 0.9829, LR: 0.010000\n",
      "Epoch 2/50: Train Loss: 0.0952, Test Loss: 0.0853, Train Acc: 0.9844, Test Acc: 0.9866, LR: 0.010000\n",
      "Epoch 3/50: Train Loss: 0.0823, Test Loss: 0.0776, Train Acc: 0.9860, Test Acc: 0.9866, LR: 0.010000\n",
      "Epoch 4/50: Train Loss: 0.0769, Test Loss: 0.0738, Train Acc: 0.9860, Test Acc: 0.9866, LR: 0.010000\n",
      "Epoch 5/50: Train Loss: 0.0740, Test Loss: 0.0715, Train Acc: 0.9860, Test Acc: 0.9866, LR: 0.005000\n",
      "Epoch 6/50: Train Loss: 0.0725, Test Loss: 0.0707, Train Acc: 0.9860, Test Acc: 0.9866, LR: 0.005000\n",
      "Epoch 7/50: Train Loss: 0.0718, Test Loss: 0.0701, Train Acc: 0.9860, Test Acc: 0.9866, LR: 0.005000\n",
      "Epoch 8/50: Train Loss: 0.0712, Test Loss: 0.0695, Train Acc: 0.9860, Test Acc: 0.9866, LR: 0.005000\n",
      "Epoch 9/50: Train Loss: 0.0707, Test Loss: 0.0691, Train Acc: 0.9860, Test Acc: 0.9866, LR: 0.005000\n",
      "Epoch 10/50: Train Loss: 0.0702, Test Loss: 0.0686, Train Acc: 0.9860, Test Acc: 0.9866, LR: 0.002500\n",
      "Epoch 11/50: Train Loss: 0.0699, Test Loss: 0.0685, Train Acc: 0.9860, Test Acc: 0.9866, LR: 0.002500\n",
      "Epoch 12/50: Train Loss: 0.0697, Test Loss: 0.0683, Train Acc: 0.9860, Test Acc: 0.9866, LR: 0.002500\n",
      "Epoch 13/50: Train Loss: 0.0696, Test Loss: 0.0681, Train Acc: 0.9860, Test Acc: 0.9866, LR: 0.002500\n",
      "Epoch 14/50: Train Loss: 0.0694, Test Loss: 0.0680, Train Acc: 0.9860, Test Acc: 0.9866, LR: 0.002500\n",
      "Epoch 15/50: Train Loss: 0.0693, Test Loss: 0.0679, Train Acc: 0.9860, Test Acc: 0.9866, LR: 0.001250\n",
      "Epoch 16/50: Train Loss: 0.0691, Test Loss: 0.0678, Train Acc: 0.9860, Test Acc: 0.9866, LR: 0.001250\n",
      "Epoch 17/50: Train Loss: 0.0691, Test Loss: 0.0677, Train Acc: 0.9860, Test Acc: 0.9866, LR: 0.001250\n",
      "Epoch 18/50: Train Loss: 0.0690, Test Loss: 0.0677, Train Acc: 0.9860, Test Acc: 0.9866, LR: 0.001250\n",
      "Epoch 19/50: Train Loss: 0.0691, Test Loss: 0.0676, Train Acc: 0.9860, Test Acc: 0.9866, LR: 0.001250\n",
      "Epoch 20/50: Train Loss: 0.0689, Test Loss: 0.0675, Train Acc: 0.9860, Test Acc: 0.9866, LR: 0.000625\n",
      "Epoch 21/50: Train Loss: 0.0688, Test Loss: 0.0675, Train Acc: 0.9860, Test Acc: 0.9866, LR: 0.000625\n",
      "Epoch 22/50: Train Loss: 0.0688, Test Loss: 0.0675, Train Acc: 0.9860, Test Acc: 0.9866, LR: 0.000625\n",
      "Epoch 23/50: Train Loss: 0.0688, Test Loss: 0.0675, Train Acc: 0.9860, Test Acc: 0.9866, LR: 0.000625\n",
      "Epoch 24/50: Train Loss: 0.0688, Test Loss: 0.0674, Train Acc: 0.9860, Test Acc: 0.9866, LR: 0.000625\n",
      "Epoch 25/50: Train Loss: 0.0687, Test Loss: 0.0674, Train Acc: 0.9860, Test Acc: 0.9866, LR: 0.000313\n",
      "Early stopping triggered after 25 epochs.\n",
      "\n",
      "Confusion Matrix:\n",
      "[[14145   204]\n",
      " [  222 17223]]\n",
      "\n",
      "Classification Report:\n",
      "              precision    recall  f1-score   support\n",
      "\n",
      "         0.0  0.98454792 0.98578298 0.98516506     14349\n",
      "         1.0  0.98829403 0.98727429 0.98778390     17445\n",
      "\n",
      "    accuracy                      0.98660125     31794\n",
      "   macro avg  0.98642097 0.98652864 0.98647448     31794\n",
      "weighted avg  0.98660337 0.98660125 0.98660199     31794\n",
      "\n",
      "\n",
      "==================== FOLD 4 ====================\n",
      "Epoch 1/50: Train Loss: 0.2033, Test Loss: 0.1068, Train Acc: 0.9557, Test Acc: 0.9829, LR: 0.010000\n",
      "Epoch 2/50: Train Loss: 0.0952, Test Loss: 0.0845, Train Acc: 0.9846, Test Acc: 0.9865, LR: 0.010000\n",
      "Epoch 3/50: Train Loss: 0.0824, Test Loss: 0.0769, Train Acc: 0.9860, Test Acc: 0.9865, LR: 0.010000\n",
      "Epoch 4/50: Train Loss: 0.0770, Test Loss: 0.0731, Train Acc: 0.9860, Test Acc: 0.9865, LR: 0.010000\n",
      "Epoch 5/50: Train Loss: 0.0741, Test Loss: 0.0709, Train Acc: 0.9860, Test Acc: 0.9865, LR: 0.005000\n",
      "Epoch 6/50: Train Loss: 0.0727, Test Loss: 0.0701, Train Acc: 0.9860, Test Acc: 0.9865, LR: 0.005000\n",
      "Epoch 7/50: Train Loss: 0.0719, Test Loss: 0.0694, Train Acc: 0.9860, Test Acc: 0.9865, LR: 0.005000\n",
      "Epoch 8/50: Train Loss: 0.0713, Test Loss: 0.0689, Train Acc: 0.9860, Test Acc: 0.9865, LR: 0.005000\n",
      "Epoch 9/50: Train Loss: 0.0709, Test Loss: 0.0684, Train Acc: 0.9860, Test Acc: 0.9865, LR: 0.005000\n",
      "Epoch 10/50: Train Loss: 0.0704, Test Loss: 0.0680, Train Acc: 0.9860, Test Acc: 0.9865, LR: 0.002500\n",
      "Epoch 11/50: Train Loss: 0.0701, Test Loss: 0.0678, Train Acc: 0.9860, Test Acc: 0.9865, LR: 0.002500\n",
      "Epoch 12/50: Train Loss: 0.0699, Test Loss: 0.0676, Train Acc: 0.9860, Test Acc: 0.9865, LR: 0.002500\n",
      "Epoch 13/50: Train Loss: 0.0697, Test Loss: 0.0675, Train Acc: 0.9860, Test Acc: 0.9865, LR: 0.002500\n",
      "Epoch 14/50: Train Loss: 0.0696, Test Loss: 0.0673, Train Acc: 0.9860, Test Acc: 0.9865, LR: 0.002500\n",
      "Epoch 15/50: Train Loss: 0.0694, Test Loss: 0.0672, Train Acc: 0.9860, Test Acc: 0.9865, LR: 0.001250\n",
      "Epoch 16/50: Train Loss: 0.0693, Test Loss: 0.0671, Train Acc: 0.9860, Test Acc: 0.9865, LR: 0.001250\n",
      "Epoch 17/50: Train Loss: 0.0692, Test Loss: 0.0670, Train Acc: 0.9860, Test Acc: 0.9865, LR: 0.001250\n",
      "Epoch 18/50: Train Loss: 0.0692, Test Loss: 0.0670, Train Acc: 0.9860, Test Acc: 0.9865, LR: 0.001250\n",
      "Epoch 19/50: Train Loss: 0.0691, Test Loss: 0.0669, Train Acc: 0.9860, Test Acc: 0.9865, LR: 0.001250\n",
      "Epoch 20/50: Train Loss: 0.0690, Test Loss: 0.0668, Train Acc: 0.9860, Test Acc: 0.9865, LR: 0.000625\n",
      "Epoch 21/50: Train Loss: 0.0690, Test Loss: 0.0668, Train Acc: 0.9860, Test Acc: 0.9865, LR: 0.000625\n",
      "Epoch 22/50: Train Loss: 0.0689, Test Loss: 0.0668, Train Acc: 0.9860, Test Acc: 0.9865, LR: 0.000625\n",
      "Epoch 23/50: Train Loss: 0.0689, Test Loss: 0.0667, Train Acc: 0.9860, Test Acc: 0.9865, LR: 0.000625\n",
      "Epoch 24/50: Train Loss: 0.0689, Test Loss: 0.0667, Train Acc: 0.9860, Test Acc: 0.9865, LR: 0.000625\n",
      "Epoch 25/50: Train Loss: 0.0689, Test Loss: 0.0667, Train Acc: 0.9860, Test Acc: 0.9865, LR: 0.000313\n",
      "Early stopping triggered after 25 epochs.\n",
      "\n",
      "Confusion Matrix:\n",
      "[[13985   228]\n",
      " [  200 17380]]\n",
      "\n",
      "Classification Report:\n",
      "              precision    recall  f1-score   support\n",
      "\n",
      "         0.0  0.98590060 0.98395835 0.98492852     14213\n",
      "         1.0  0.98705134 0.98862344 0.98783676     17580\n",
      "\n",
      "    accuracy                      0.98653792     31793\n",
      "   macro avg  0.98647597 0.98629089 0.98638264     31793\n",
      "weighted avg  0.98653690 0.98653792 0.98653664     31793\n",
      "\n",
      "\n",
      "==================== FOLD 5 ====================\n",
      "Epoch 1/50: Train Loss: 0.2028, Test Loss: 0.1102, Train Acc: 0.9551, Test Acc: 0.9818, LR: 0.010000\n",
      "Epoch 2/50: Train Loss: 0.0944, Test Loss: 0.0881, Train Acc: 0.9846, Test Acc: 0.9857, LR: 0.010000\n",
      "Epoch 3/50: Train Loss: 0.0814, Test Loss: 0.0806, Train Acc: 0.9862, Test Acc: 0.9857, LR: 0.010000\n",
      "Epoch 4/50: Train Loss: 0.0761, Test Loss: 0.0769, Train Acc: 0.9862, Test Acc: 0.9857, LR: 0.010000\n",
      "Epoch 5/50: Train Loss: 0.0732, Test Loss: 0.0747, Train Acc: 0.9862, Test Acc: 0.9857, LR: 0.005000\n",
      "Epoch 6/50: Train Loss: 0.0717, Test Loss: 0.0739, Train Acc: 0.9862, Test Acc: 0.9857, LR: 0.005000\n",
      "Epoch 7/50: Train Loss: 0.0710, Test Loss: 0.0733, Train Acc: 0.9862, Test Acc: 0.9857, LR: 0.005000\n",
      "Epoch 8/50: Train Loss: 0.0704, Test Loss: 0.0727, Train Acc: 0.9862, Test Acc: 0.9857, LR: 0.005000\n",
      "Epoch 9/50: Train Loss: 0.0699, Test Loss: 0.0723, Train Acc: 0.9862, Test Acc: 0.9857, LR: 0.005000\n",
      "Epoch 10/50: Train Loss: 0.0695, Test Loss: 0.0718, Train Acc: 0.9862, Test Acc: 0.9857, LR: 0.002500\n",
      "Epoch 11/50: Train Loss: 0.0691, Test Loss: 0.0717, Train Acc: 0.9862, Test Acc: 0.9857, LR: 0.002500\n",
      "Epoch 12/50: Train Loss: 0.0690, Test Loss: 0.0715, Train Acc: 0.9862, Test Acc: 0.9857, LR: 0.002500\n",
      "Epoch 13/50: Train Loss: 0.0688, Test Loss: 0.0713, Train Acc: 0.9862, Test Acc: 0.9857, LR: 0.002500\n",
      "Epoch 14/50: Train Loss: 0.0686, Test Loss: 0.0712, Train Acc: 0.9862, Test Acc: 0.9857, LR: 0.002500\n",
      "Epoch 15/50: Train Loss: 0.0684, Test Loss: 0.0711, Train Acc: 0.9862, Test Acc: 0.9857, LR: 0.001250\n",
      "Epoch 16/50: Train Loss: 0.0684, Test Loss: 0.0710, Train Acc: 0.9862, Test Acc: 0.9857, LR: 0.001250\n",
      "Epoch 17/50: Train Loss: 0.0683, Test Loss: 0.0709, Train Acc: 0.9862, Test Acc: 0.9857, LR: 0.001250\n",
      "Epoch 18/50: Train Loss: 0.0682, Test Loss: 0.0709, Train Acc: 0.9862, Test Acc: 0.9857, LR: 0.001250\n",
      "Epoch 19/50: Train Loss: 0.0682, Test Loss: 0.0708, Train Acc: 0.9862, Test Acc: 0.9857, LR: 0.001250\n",
      "Epoch 20/50: Train Loss: 0.0681, Test Loss: 0.0707, Train Acc: 0.9862, Test Acc: 0.9857, LR: 0.000625\n",
      "Epoch 21/50: Train Loss: 0.0680, Test Loss: 0.0707, Train Acc: 0.9862, Test Acc: 0.9857, LR: 0.000625\n",
      "Epoch 22/50: Train Loss: 0.0680, Test Loss: 0.0707, Train Acc: 0.9862, Test Acc: 0.9857, LR: 0.000625\n",
      "Epoch 23/50: Train Loss: 0.0680, Test Loss: 0.0706, Train Acc: 0.9862, Test Acc: 0.9857, LR: 0.000625\n",
      "Epoch 24/50: Train Loss: 0.0679, Test Loss: 0.0706, Train Acc: 0.9862, Test Acc: 0.9857, LR: 0.000625\n",
      "Epoch 25/50: Train Loss: 0.0679, Test Loss: 0.0706, Train Acc: 0.9862, Test Acc: 0.9857, LR: 0.000313\n",
      "Early stopping triggered after 25 epochs.\n",
      "\n",
      "Confusion Matrix:\n",
      "[[14137   225]\n",
      " [  229 17202]]\n",
      "\n",
      "Classification Report:\n",
      "              precision    recall  f1-score   support\n",
      "\n",
      "         0.0  0.98405959 0.98433366 0.98419660     14362\n",
      "         1.0  0.98708900 0.98686249 0.98697573     17431\n",
      "\n",
      "    accuracy                      0.98572013     31793\n",
      "   macro avg  0.98557429 0.98559807 0.98558617     31793\n",
      "weighted avg  0.98572051 0.98572013 0.98572030     31793\n",
      "\n",
      "==================== AGGREGATE RESULTS ====================\n",
      "\n",
      "Confusion Matrix:\n",
      "[[70279  1133]\n",
      " [ 1076 86480]]\n",
      "\n",
      "Classification Report:\n",
      "              precision    recall  f1-score   support\n",
      "\n",
      "         0.0  0.98492047 0.98413432 0.98452724     71412\n",
      "         1.0  0.98706813 0.98771072 0.98738932     87556\n",
      "\n",
      "    accuracy                      0.98610412    158968\n",
      "   macro avg  0.98599430 0.98592252 0.98595828    158968\n",
      "weighted avg  0.98610335 0.98610412 0.98610361    158968\n",
      "\n",
      "[0.985657671258728, 0.986003648487136, 0.9866012455180223, 0.9865379171515742, 0.985720127071997]\n",
      "\n",
      "Model training complete!\n",
      "  Average Final Train Loss:     0.068390\n",
      "  Average Final Test Loss:      0.068672\n",
      "  Average Final Train Accuracy: 0.986104\n",
      "  Average Final Test Accuracy:  0.986104\n"
     ]
    },
    {
     "data": {
      "image/png": "[encoded data removed]",
      "text/plain": [
       "<Figure size 600x600 with 2 Axes>"
      ]
     },
     "metadata": {},
     "output_type": "display_data"
    }
   ],
   "source": [
    "from src.trainEval import *\n",
    "result_dict = train_model(\n",
    "    folds_data,\n",
    "    optimizer_string=\"sgd\", #Stochastic Gradient Descent\n",
    "    scheduler_step_size=5,\n",
    "    learning_rate=0.01,\n",
    "    scheduler_gamma=0.5,\n",
    "    convergence_threshold=1e-4, \n",
    "    num_epochs=50,\n",
    "    patience=3, # Stop at 3 epochs with no improvement\n",
    "    weight_decay=0,\n",
    "    seed=seed\n",
    ")\n",
    "\n",
    "lr_accuracies_test = result_dict[\"all_final_test_accuracies\"]\n",
    "print(lr_accuracies_test);\n",
    "\n",
    "\n",
    "print(\"\\nModel training complete!\")\n",
    "aggregate_cm = result_dict[\"aggregate_confusion_matrix\"]\n",
    "\n",
    "sns.heatmap(aggregate_cm, annot=True, fmt=\"d\", cmap=\"Blues\", \n",
    "            xticklabels=[\"Negative\", \"Positive\"], \n",
    "            yticklabels=[\"Negative\", \"Positive\"]) \n",
    "\n",
    "\n",
    "print(f\"  Average Final Train Loss:     {result_dict['aggregated_final_metrics']['avg_final_train_loss']:.6f}\")\n",
    "print(f\"  Average Final Test Loss:      {result_dict['aggregated_final_metrics']['avg_final_test_loss']:.6f}\")\n",
    "print(f\"  Average Final Train Accuracy: {result_dict['aggregated_final_metrics']['avg_final_train_accuracy']:.6f}\")\n",
    "print(f\"  Average Final Test Accuracy:  {result_dict['aggregated_final_metrics']['avg_final_test_accuracy']:.6f}\")\n",
    "\n",
    "plt.title(\"Aggregate Confusion Matrix\")\n",
    "plt.xlabel(\"Predicted Label\")\n",
    "plt.ylabel(\"True Label\")\n",
    "plt.show()"
   ]
  },
  {
   "cell_type": "markdown",
   "metadata": {},
   "source": [
    "#### Error: LR\n",
    "This model performed well for an initial run. All folds ran for 25 epochs. Both accuracies for test and train data are high, though there is usually minimal improvement from the third epoch onwards. The train and test loss both see steady improvement, but we see the test loss  to be slightly higher and plateau earlier at around the sixteenth epoch. \n",
    "\n",
    "We see that the train loss is slightly lower than the test loss in folds 1, 2, and 5, while the reverse is true for folds 3 and 4. This would indicate a model that overfits for the former folds, and underfits for the latter. Averaging these out, its clear that with an aggregated train and test loss of 0.684 and 0.687 respectively, the overall performance of the model doesn't significantly overfit nor underfit. This outcome is surprising, considering that we've used nine predictor variables while also forgoing the use of regularization, as these would have been expected to introduce noise and contribute to overfitting through curse of dimensionality."
   ]
  },
  {
   "cell_type": "markdown",
   "metadata": {},
   "source": [
    "#### Hyperparameter Tuning: LR"
   ]
  },
  {
   "cell_type": "markdown",
   "metadata": {},
   "source": [
    "With our base parameters having been set, we can begin hyperparameter tuning. We'll implement *Random Search* as to not have to exhaustively branch through each possible combination of parameters. Below are the hyperparameter's we'll use and choose from. For example, if our algorithm randomly, for instance, chooses the second element of each, then it will test Logistic Regression at a learning rate of 0.1, batch size of 64, and the with the ADAM optimizer, etc. \n",
    "\n",
    "Values evenly spaced between 0.000001 and 0.001 will be explored for the learning rates. This will go on for fifty iterations, afterwhich a best model will be selected based on test accuracy. We'll perform random search rather than grid search, as a compromise to searching through all 259,200 combinations of hyperparameters in our grid."
   ]
  },
  {
   "cell_type": "code",
   "execution_count": 91,
   "metadata": {},
   "outputs": [
    {
     "name": "stdout",
     "output_type": "stream",
     "text": [
      "\n",
      "Testing configuration:\n",
      "{'weight_decay': np.float64(0.00046415888336127773), 'scheduler_step_size': 5, 'scheduler_gamma': 0.9, 'patience': 5, 'optimizer': 'sgd', 'num_epochs': 30, 'learning_rate': np.float64(0.06951927961775606), 'batch_size': 256}\n",
      "\n",
      "==================== FOLD 1 ====================\n",
      "Epoch 1/30: Train Loss: 0.1207, Test Loss: 0.0773, Train Acc: 0.9766, Test Acc: 0.9857, LR: 0.069519\n",
      "Epoch 2/30: Train Loss: 0.0729, Test Loss: 0.0712, Train Acc: 0.9862, Test Acc: 0.9857, LR: 0.069519\n",
      "Epoch 3/30: Train Loss: 0.0692, Test Loss: 0.0693, Train Acc: 0.9862, Test Acc: 0.9857, LR: 0.069519\n",
      "Epoch 4/30: Train Loss: 0.0678, Test Loss: 0.0684, Train Acc: 0.9862, Test Acc: 0.9857, LR: 0.069519\n",
      "Epoch 5/30: Train Loss: 0.0670, Test Loss: 0.0679, Train Acc: 0.9862, Test Acc: 0.9857, LR: 0.062567\n",
      "Epoch 6/30: Train Loss: 0.0665, Test Loss: 0.0677, Train Acc: 0.9862, Test Acc: 0.9857, LR: 0.062567\n",
      "Epoch 7/30: Train Loss: 0.0662, Test Loss: 0.0674, Train Acc: 0.9862, Test Acc: 0.9857, LR: 0.062567\n",
      "Epoch 8/30: Train Loss: 0.0660, Test Loss: 0.0673, Train Acc: 0.9862, Test Acc: 0.9857, LR: 0.062567\n",
      "Epoch 9/30: Train Loss: 0.0658, Test Loss: 0.0672, Train Acc: 0.9862, Test Acc: 0.9857, LR: 0.062567\n",
      "Epoch 10/30: Train Loss: 0.0657, Test Loss: 0.0671, Train Acc: 0.9862, Test Acc: 0.9857, LR: 0.056311\n",
      "Epoch 11/30: Train Loss: 0.0656, Test Loss: 0.0670, Train Acc: 0.9862, Test Acc: 0.9857, LR: 0.056311\n",
      "Epoch 12/30: Train Loss: 0.0655, Test Loss: 0.0670, Train Acc: 0.9862, Test Acc: 0.9857, LR: 0.056311\n",
      "Epoch 13/30: Train Loss: 0.0655, Test Loss: 0.0670, Train Acc: 0.9862, Test Acc: 0.9857, LR: 0.056311\n",
      "Epoch 14/30: Train Loss: 0.0654, Test Loss: 0.0669, Train Acc: 0.9862, Test Acc: 0.9857, LR: 0.056311\n",
      "Epoch 15/30: Train Loss: 0.0654, Test Loss: 0.0669, Train Acc: 0.9862, Test Acc: 0.9857, LR: 0.050680\n",
      "Epoch 16/30: Train Loss: 0.0653, Test Loss: 0.0668, Train Acc: 0.9862, Test Acc: 0.9857, LR: 0.050680\n",
      "Epoch 17/30: Train Loss: 0.0653, Test Loss: 0.0668, Train Acc: 0.9862, Test Acc: 0.9857, LR: 0.050680\n",
      "Epoch 18/30: Train Loss: 0.0653, Test Loss: 0.0669, Train Acc: 0.9862, Test Acc: 0.9857, LR: 0.050680\n",
      "Epoch 19/30: Train Loss: 0.0653, Test Loss: 0.0668, Train Acc: 0.9862, Test Acc: 0.9857, LR: 0.050680\n",
      "Early stopping triggered after 19 epochs.\n",
      "\n",
      "Confusion Matrix:\n",
      "[[14052   250]\n",
      " [  206 17286]]\n",
      "\n",
      "Classification Report:\n",
      "              precision    recall  f1-score   support\n",
      "\n",
      "         0.0  0.98555197 0.98251993 0.98403361     14302\n",
      "         1.0  0.98574361 0.98822319 0.98698184     17492\n",
      "\n",
      "    accuracy                      0.98565767     31794\n",
      "   macro avg  0.98564779 0.98537156 0.98550773     31794\n",
      "weighted avg  0.98565741 0.98565767 0.98565563     31794\n",
      "\n",
      "\n",
      "==================== FOLD 2 ====================\n",
      "Epoch 1/30: Train Loss: 0.1201, Test Loss: 0.0775, Train Acc: 0.9763, Test Acc: 0.9860, LR: 0.069519\n",
      "Epoch 2/30: Train Loss: 0.0727, Test Loss: 0.0713, Train Acc: 0.9861, Test Acc: 0.9860, LR: 0.069519\n",
      "Epoch 3/30: Train Loss: 0.0691, Test Loss: 0.0693, Train Acc: 0.9861, Test Acc: 0.9860, LR: 0.069519\n",
      "Epoch 4/30: Train Loss: 0.0677, Test Loss: 0.0683, Train Acc: 0.9861, Test Acc: 0.9860, LR: 0.069519\n",
      "Epoch 5/30: Train Loss: 0.0670, Test Loss: 0.0678, Train Acc: 0.9861, Test Acc: 0.9860, LR: 0.062567\n",
      "Epoch 6/30: Train Loss: 0.0665, Test Loss: 0.0674, Train Acc: 0.9861, Test Acc: 0.9860, LR: 0.062567\n",
      "Epoch 7/30: Train Loss: 0.0662, Test Loss: 0.0672, Train Acc: 0.9861, Test Acc: 0.9860, LR: 0.062567\n",
      "Epoch 8/30: Train Loss: 0.0660, Test Loss: 0.0670, Train Acc: 0.9861, Test Acc: 0.9860, LR: 0.062567\n",
      "Epoch 9/30: Train Loss: 0.0658, Test Loss: 0.0668, Train Acc: 0.9861, Test Acc: 0.9860, LR: 0.062567\n",
      "Epoch 10/30: Train Loss: 0.0657, Test Loss: 0.0667, Train Acc: 0.9861, Test Acc: 0.9860, LR: 0.056311\n",
      "Epoch 11/30: Train Loss: 0.0656, Test Loss: 0.0667, Train Acc: 0.9861, Test Acc: 0.9860, LR: 0.056311\n",
      "Epoch 12/30: Train Loss: 0.0655, Test Loss: 0.0666, Train Acc: 0.9861, Test Acc: 0.9860, LR: 0.056311\n",
      "Epoch 13/30: Train Loss: 0.0655, Test Loss: 0.0666, Train Acc: 0.9861, Test Acc: 0.9860, LR: 0.056311\n",
      "Epoch 14/30: Train Loss: 0.0654, Test Loss: 0.0665, Train Acc: 0.9861, Test Acc: 0.9860, LR: 0.056311\n",
      "Epoch 15/30: Train Loss: 0.0654, Test Loss: 0.0665, Train Acc: 0.9861, Test Acc: 0.9860, LR: 0.050680\n",
      "Epoch 16/30: Train Loss: 0.0654, Test Loss: 0.0664, Train Acc: 0.9861, Test Acc: 0.9860, LR: 0.050680\n",
      "Epoch 17/30: Train Loss: 0.0653, Test Loss: 0.0664, Train Acc: 0.9861, Test Acc: 0.9860, LR: 0.050680\n",
      "Epoch 18/30: Train Loss: 0.0653, Test Loss: 0.0664, Train Acc: 0.9861, Test Acc: 0.9860, LR: 0.050680\n",
      "Epoch 19/30: Train Loss: 0.0653, Test Loss: 0.0664, Train Acc: 0.9861, Test Acc: 0.9860, LR: 0.050680\n",
      "Epoch 20/30: Train Loss: 0.0653, Test Loss: 0.0663, Train Acc: 0.9861, Test Acc: 0.9860, LR: 0.045612\n",
      "Epoch 21/30: Train Loss: 0.0653, Test Loss: 0.0663, Train Acc: 0.9861, Test Acc: 0.9860, LR: 0.045612\n",
      "Epoch 22/30: Train Loss: 0.0652, Test Loss: 0.0663, Train Acc: 0.9861, Test Acc: 0.9860, LR: 0.045612\n",
      "Epoch 23/30: Train Loss: 0.0652, Test Loss: 0.0663, Train Acc: 0.9861, Test Acc: 0.9860, LR: 0.045612\n",
      "Epoch 24/30: Train Loss: 0.0652, Test Loss: 0.0663, Train Acc: 0.9861, Test Acc: 0.9860, LR: 0.045612\n",
      "Epoch 25/30: Train Loss: 0.0652, Test Loss: 0.0663, Train Acc: 0.9861, Test Acc: 0.9860, LR: 0.041050\n",
      "Epoch 26/30: Train Loss: 0.0652, Test Loss: 0.0663, Train Acc: 0.9861, Test Acc: 0.9860, LR: 0.041050\n",
      "Epoch 27/30: Train Loss: 0.0652, Test Loss: 0.0663, Train Acc: 0.9861, Test Acc: 0.9860, LR: 0.041050\n",
      "Early stopping triggered after 27 epochs.\n",
      "\n",
      "Confusion Matrix:\n",
      "[[13960   226]\n",
      " [  219 17389]]\n",
      "\n",
      "Classification Report:\n",
      "              precision    recall  f1-score   support\n",
      "\n",
      "         0.0  0.98455462 0.98406880 0.98431165     14186\n",
      "         1.0  0.98717003 0.98756247 0.98736621     17608\n",
      "\n",
      "    accuracy                      0.98600365     31794\n",
      "   macro avg  0.98586232 0.98581564 0.98583893     31794\n",
      "weighted avg  0.98600307 0.98600365 0.98600331     31794\n",
      "\n",
      "\n",
      "==================== FOLD 3 ====================\n",
      "Epoch 1/30: Train Loss: 0.1209, Test Loss: 0.0756, Train Acc: 0.9762, Test Acc: 0.9866, LR: 0.069519\n",
      "Epoch 2/30: Train Loss: 0.0733, Test Loss: 0.0693, Train Acc: 0.9860, Test Acc: 0.9866, LR: 0.069519\n",
      "Epoch 3/30: Train Loss: 0.0697, Test Loss: 0.0673, Train Acc: 0.9860, Test Acc: 0.9866, LR: 0.069519\n",
      "Epoch 4/30: Train Loss: 0.0683, Test Loss: 0.0664, Train Acc: 0.9860, Test Acc: 0.9866, LR: 0.069519\n",
      "Epoch 5/30: Train Loss: 0.0675, Test Loss: 0.0657, Train Acc: 0.9860, Test Acc: 0.9866, LR: 0.062567\n",
      "Epoch 6/30: Train Loss: 0.0670, Test Loss: 0.0654, Train Acc: 0.9860, Test Acc: 0.9866, LR: 0.062567\n",
      "Epoch 7/30: Train Loss: 0.0667, Test Loss: 0.0651, Train Acc: 0.9860, Test Acc: 0.9866, LR: 0.062567\n",
      "Epoch 8/30: Train Loss: 0.0665, Test Loss: 0.0650, Train Acc: 0.9860, Test Acc: 0.9866, LR: 0.062567\n",
      "Epoch 9/30: Train Loss: 0.0663, Test Loss: 0.0649, Train Acc: 0.9860, Test Acc: 0.9866, LR: 0.062567\n",
      "Epoch 10/30: Train Loss: 0.0662, Test Loss: 0.0647, Train Acc: 0.9860, Test Acc: 0.9866, LR: 0.056311\n",
      "Epoch 11/30: Train Loss: 0.0661, Test Loss: 0.0647, Train Acc: 0.9860, Test Acc: 0.9866, LR: 0.056311\n",
      "Epoch 12/30: Train Loss: 0.0660, Test Loss: 0.0647, Train Acc: 0.9860, Test Acc: 0.9866, LR: 0.056311\n",
      "Epoch 13/30: Train Loss: 0.0659, Test Loss: 0.0646, Train Acc: 0.9860, Test Acc: 0.9866, LR: 0.056311\n",
      "Epoch 14/30: Train Loss: 0.0659, Test Loss: 0.0646, Train Acc: 0.9860, Test Acc: 0.9866, LR: 0.056311\n",
      "Epoch 15/30: Train Loss: 0.0659, Test Loss: 0.0646, Train Acc: 0.9860, Test Acc: 0.9866, LR: 0.050680\n",
      "Epoch 16/30: Train Loss: 0.0658, Test Loss: 0.0645, Train Acc: 0.9860, Test Acc: 0.9866, LR: 0.050680\n",
      "Epoch 17/30: Train Loss: 0.0658, Test Loss: 0.0645, Train Acc: 0.9860, Test Acc: 0.9866, LR: 0.050680\n",
      "Epoch 18/30: Train Loss: 0.0657, Test Loss: 0.0645, Train Acc: 0.9860, Test Acc: 0.9866, LR: 0.050680\n",
      "Epoch 19/30: Train Loss: 0.0658, Test Loss: 0.0645, Train Acc: 0.9860, Test Acc: 0.9866, LR: 0.050680\n",
      "Epoch 20/30: Train Loss: 0.0657, Test Loss: 0.0645, Train Acc: 0.9860, Test Acc: 0.9866, LR: 0.045612\n",
      "Epoch 21/30: Train Loss: 0.0657, Test Loss: 0.0645, Train Acc: 0.9860, Test Acc: 0.9866, LR: 0.045612\n",
      "Early stopping triggered after 21 epochs.\n",
      "\n",
      "Confusion Matrix:\n",
      "[[14145   204]\n",
      " [  222 17223]]\n",
      "\n",
      "Classification Report:\n",
      "              precision    recall  f1-score   support\n",
      "\n",
      "         0.0  0.98454792 0.98578298 0.98516506     14349\n",
      "         1.0  0.98829403 0.98727429 0.98778390     17445\n",
      "\n",
      "    accuracy                      0.98660125     31794\n",
      "   macro avg  0.98642097 0.98652864 0.98647448     31794\n",
      "weighted avg  0.98660337 0.98660125 0.98660199     31794\n",
      "\n",
      "\n",
      "==================== FOLD 4 ====================\n",
      "Epoch 1/30: Train Loss: 0.1207, Test Loss: 0.0749, Train Acc: 0.9761, Test Acc: 0.9865, LR: 0.069519\n",
      "Epoch 2/30: Train Loss: 0.0734, Test Loss: 0.0685, Train Acc: 0.9860, Test Acc: 0.9865, LR: 0.069519\n",
      "Epoch 3/30: Train Loss: 0.0699, Test Loss: 0.0665, Train Acc: 0.9860, Test Acc: 0.9865, LR: 0.069519\n",
      "Epoch 4/30: Train Loss: 0.0684, Test Loss: 0.0655, Train Acc: 0.9860, Test Acc: 0.9865, LR: 0.069519\n",
      "Epoch 5/30: Train Loss: 0.0677, Test Loss: 0.0649, Train Acc: 0.9860, Test Acc: 0.9865, LR: 0.062567\n",
      "Epoch 6/30: Train Loss: 0.0672, Test Loss: 0.0646, Train Acc: 0.9860, Test Acc: 0.9865, LR: 0.062567\n",
      "Epoch 7/30: Train Loss: 0.0669, Test Loss: 0.0643, Train Acc: 0.9860, Test Acc: 0.9865, LR: 0.062567\n",
      "Epoch 8/30: Train Loss: 0.0667, Test Loss: 0.0642, Train Acc: 0.9860, Test Acc: 0.9865, LR: 0.062567\n",
      "Epoch 9/30: Train Loss: 0.0666, Test Loss: 0.0640, Train Acc: 0.9860, Test Acc: 0.9865, LR: 0.062567\n",
      "Epoch 10/30: Train Loss: 0.0664, Test Loss: 0.0639, Train Acc: 0.9860, Test Acc: 0.9865, LR: 0.056311\n",
      "Epoch 11/30: Train Loss: 0.0663, Test Loss: 0.0639, Train Acc: 0.9860, Test Acc: 0.9865, LR: 0.056311\n",
      "Epoch 12/30: Train Loss: 0.0662, Test Loss: 0.0638, Train Acc: 0.9860, Test Acc: 0.9865, LR: 0.056311\n",
      "Epoch 13/30: Train Loss: 0.0662, Test Loss: 0.0637, Train Acc: 0.9860, Test Acc: 0.9865, LR: 0.056311\n",
      "Epoch 14/30: Train Loss: 0.0661, Test Loss: 0.0637, Train Acc: 0.9860, Test Acc: 0.9865, LR: 0.056311\n",
      "Epoch 15/30: Train Loss: 0.0661, Test Loss: 0.0636, Train Acc: 0.9860, Test Acc: 0.9865, LR: 0.050680\n",
      "Epoch 16/30: Train Loss: 0.0661, Test Loss: 0.0636, Train Acc: 0.9860, Test Acc: 0.9865, LR: 0.050680\n",
      "Epoch 17/30: Train Loss: 0.0660, Test Loss: 0.0636, Train Acc: 0.9860, Test Acc: 0.9865, LR: 0.050680\n",
      "Epoch 18/30: Train Loss: 0.0660, Test Loss: 0.0635, Train Acc: 0.9860, Test Acc: 0.9865, LR: 0.050680\n",
      "Epoch 19/30: Train Loss: 0.0660, Test Loss: 0.0635, Train Acc: 0.9860, Test Acc: 0.9865, LR: 0.050680\n",
      "Epoch 20/30: Train Loss: 0.0660, Test Loss: 0.0635, Train Acc: 0.9860, Test Acc: 0.9865, LR: 0.045612\n",
      "Epoch 21/30: Train Loss: 0.0659, Test Loss: 0.0635, Train Acc: 0.9860, Test Acc: 0.9865, LR: 0.045612\n",
      "Epoch 22/30: Train Loss: 0.0659, Test Loss: 0.0634, Train Acc: 0.9860, Test Acc: 0.9865, LR: 0.045612\n",
      "Epoch 23/30: Train Loss: 0.0659, Test Loss: 0.0635, Train Acc: 0.9860, Test Acc: 0.9865, LR: 0.045612\n",
      "Epoch 24/30: Train Loss: 0.0659, Test Loss: 0.0634, Train Acc: 0.9860, Test Acc: 0.9865, LR: 0.045612\n",
      "Epoch 25/30: Train Loss: 0.0659, Test Loss: 0.0634, Train Acc: 0.9860, Test Acc: 0.9865, LR: 0.041050\n",
      "Epoch 26/30: Train Loss: 0.0659, Test Loss: 0.0634, Train Acc: 0.9860, Test Acc: 0.9865, LR: 0.041050\n"
     ]
    },
    {
     "ename": "KeyboardInterrupt",
     "evalue": "",
     "output_type": "error",
     "traceback": [
      "\u001b[1;31m---------------------------------------------------------------------------\u001b[0m",
      "\u001b[1;31mKeyboardInterrupt\u001b[0m                         Traceback (most recent call last)",
      "Cell \u001b[1;32mIn[91], line 12\u001b[0m\n\u001b[0;32m      1\u001b[0m param_distributions \u001b[38;5;241m=\u001b[39m {\n\u001b[0;32m      2\u001b[0m     \u001b[38;5;124m'\u001b[39m\u001b[38;5;124mlearning_rate\u001b[39m\u001b[38;5;124m'\u001b[39m: np\u001b[38;5;241m.\u001b[39mlogspace(\u001b[38;5;241m-\u001b[39m\u001b[38;5;241m4\u001b[39m, \u001b[38;5;241m-\u001b[39m\u001b[38;5;241m1\u001b[39m, \u001b[38;5;241m20\u001b[39m),\n\u001b[0;32m      3\u001b[0m     \u001b[38;5;124m'\u001b[39m\u001b[38;5;124mbatch_size\u001b[39m\u001b[38;5;124m'\u001b[39m: [\u001b[38;5;241m32\u001b[39m, \u001b[38;5;241m64\u001b[39m, \u001b[38;5;241m128\u001b[39m, \u001b[38;5;241m256\u001b[39m],\n\u001b[1;32m   (...)\u001b[0m\n\u001b[0;32m      9\u001b[0m     \u001b[38;5;124m'\u001b[39m\u001b[38;5;124mpatience\u001b[39m\u001b[38;5;124m'\u001b[39m: [\u001b[38;5;241m3\u001b[39m, \u001b[38;5;241m5\u001b[39m, \u001b[38;5;241m7\u001b[39m]\n\u001b[0;32m     10\u001b[0m }\n\u001b[1;32m---> 12\u001b[0m hyperparameter_results \u001b[38;5;241m=\u001b[39m \u001b[43mhyperparameter_random_search\u001b[49m\u001b[43m(\u001b[49m\u001b[43mfolds_data\u001b[49m\u001b[38;5;241;43m=\u001b[39;49m\u001b[43mfolds_data\u001b[49m\u001b[43m,\u001b[49m\u001b[43m \u001b[49m\u001b[43mparam_distributions\u001b[49m\u001b[38;5;241;43m=\u001b[39;49m\u001b[43mparam_distributions\u001b[49m\u001b[43m,\u001b[49m\u001b[43m \u001b[49m\u001b[43mn_iter_search\u001b[49m\u001b[38;5;241;43m=\u001b[39;49m\u001b[38;5;241;43m50\u001b[39;49m\u001b[43m)\u001b[49m \n",
      "File \u001b[1;32mc:\\Users\\Devon Javier\\OneDrive\\Desktop\\STINTSY\\INTSY PROJ\\src\\trainEval.py:199\u001b[0m, in \u001b[0;36mhyperparameter_random_search\u001b[1;34m(param_distributions, folds_data, n_iter_search)\u001b[0m\n\u001b[0;32m    197\u001b[0m \u001b[38;5;28mprint\u001b[39m(params)\n\u001b[0;32m    198\u001b[0m \u001b[38;5;28;01mtry\u001b[39;00m:\n\u001b[1;32m--> 199\u001b[0m     fold_results \u001b[38;5;241m=\u001b[39m \u001b[43mtrain_model\u001b[49m\u001b[43m(\u001b[49m\n\u001b[0;32m    200\u001b[0m \u001b[43m        \u001b[49m\u001b[43mfolds_data\u001b[49m\u001b[43m,\u001b[49m\n\u001b[0;32m    201\u001b[0m \u001b[43m        \u001b[49m\u001b[43mlearning_rate\u001b[49m\u001b[38;5;241;43m=\u001b[39;49m\u001b[43mparams\u001b[49m\u001b[43m[\u001b[49m\u001b[38;5;124;43m'\u001b[39;49m\u001b[38;5;124;43mlearning_rate\u001b[39;49m\u001b[38;5;124;43m'\u001b[39;49m\u001b[43m]\u001b[49m\u001b[43m,\u001b[49m\n\u001b[0;32m    202\u001b[0m \u001b[43m        \u001b[49m\u001b[43mbatch_size\u001b[49m\u001b[38;5;241;43m=\u001b[39;49m\u001b[43mparams\u001b[49m\u001b[43m[\u001b[49m\u001b[38;5;124;43m'\u001b[39;49m\u001b[38;5;124;43mbatch_size\u001b[39;49m\u001b[38;5;124;43m'\u001b[39;49m\u001b[43m]\u001b[49m\u001b[43m,\u001b[49m\n\u001b[0;32m    203\u001b[0m \u001b[43m        \u001b[49m\u001b[43moptimizer_string\u001b[49m\u001b[38;5;241;43m=\u001b[39;49m\u001b[43mparams\u001b[49m\u001b[43m[\u001b[49m\u001b[38;5;124;43m'\u001b[39;49m\u001b[38;5;124;43moptimizer\u001b[39;49m\u001b[38;5;124;43m'\u001b[39;49m\u001b[43m]\u001b[49m\u001b[43m,\u001b[49m\n\u001b[0;32m    204\u001b[0m \u001b[43m        \u001b[49m\u001b[43mweight_decay\u001b[49m\u001b[38;5;241;43m=\u001b[39;49m\u001b[43mparams\u001b[49m\u001b[43m[\u001b[49m\u001b[38;5;124;43m'\u001b[39;49m\u001b[38;5;124;43mweight_decay\u001b[39;49m\u001b[38;5;124;43m'\u001b[39;49m\u001b[43m]\u001b[49m\u001b[43m,\u001b[49m\n\u001b[0;32m    205\u001b[0m \u001b[43m        \u001b[49m\u001b[43mnum_epochs\u001b[49m\u001b[38;5;241;43m=\u001b[39;49m\u001b[43mparams\u001b[49m\u001b[43m[\u001b[49m\u001b[38;5;124;43m'\u001b[39;49m\u001b[38;5;124;43mnum_epochs\u001b[39;49m\u001b[38;5;124;43m'\u001b[39;49m\u001b[43m]\u001b[49m\u001b[43m,\u001b[49m\n\u001b[0;32m    206\u001b[0m \u001b[43m        \u001b[49m\u001b[43mscheduler_step_size\u001b[49m\u001b[38;5;241;43m=\u001b[39;49m\u001b[43mparams\u001b[49m\u001b[43m[\u001b[49m\u001b[38;5;124;43m'\u001b[39;49m\u001b[38;5;124;43mscheduler_step_size\u001b[39;49m\u001b[38;5;124;43m'\u001b[39;49m\u001b[43m]\u001b[49m\u001b[43m,\u001b[49m\n\u001b[0;32m    207\u001b[0m \u001b[43m        \u001b[49m\u001b[43mscheduler_gamma\u001b[49m\u001b[38;5;241;43m=\u001b[39;49m\u001b[43mparams\u001b[49m\u001b[43m[\u001b[49m\u001b[38;5;124;43m'\u001b[39;49m\u001b[38;5;124;43mscheduler_gamma\u001b[39;49m\u001b[38;5;124;43m'\u001b[39;49m\u001b[43m]\u001b[49m\u001b[43m,\u001b[49m\n\u001b[0;32m    208\u001b[0m \u001b[43m        \u001b[49m\u001b[43mpatience\u001b[49m\u001b[38;5;241;43m=\u001b[39;49m\u001b[43mparams\u001b[49m\u001b[43m[\u001b[49m\u001b[38;5;124;43m'\u001b[39;49m\u001b[38;5;124;43mpatience\u001b[39;49m\u001b[38;5;124;43m'\u001b[39;49m\u001b[43m]\u001b[49m\n\u001b[0;32m    209\u001b[0m \u001b[43m    \u001b[49m\u001b[43m)\u001b[49m\n\u001b[0;32m    211\u001b[0m     avg_test_accuracy \u001b[38;5;241m=\u001b[39m fold_results[\u001b[38;5;124m'\u001b[39m\u001b[38;5;124mavg_test_accuracy\u001b[39m\u001b[38;5;124m'\u001b[39m]\n\u001b[0;32m    212\u001b[0m     avg_test_loss \u001b[38;5;241m=\u001b[39m fold_results[\u001b[38;5;124m'\u001b[39m\u001b[38;5;124mavg_test_loss\u001b[39m\u001b[38;5;124m'\u001b[39m]\n",
      "File \u001b[1;32mc:\\Users\\Devon Javier\\OneDrive\\Desktop\\STINTSY\\INTSY PROJ\\src\\trainEval.py:125\u001b[0m, in \u001b[0;36mtrain_model\u001b[1;34m(folds_data, learning_rate, batch_size, num_epochs, scheduler_step_size, scheduler_gamma, missing_value, convergence_threshold, patience, weight_decay, optimizer_string, seed)\u001b[0m\n\u001b[0;32m    123\u001b[0m \u001b[38;5;66;03m#converge criteria\u001b[39;00m\n\u001b[0;32m    124\u001b[0m \u001b[38;5;28;01mfor\u001b[39;00m epoch \u001b[38;5;129;01min\u001b[39;00m \u001b[38;5;28mrange\u001b[39m(num_epochs):\n\u001b[1;32m--> 125\u001b[0m     train_loss, train_accuracy \u001b[38;5;241m=\u001b[39m \u001b[43mtrain_one_epoch\u001b[49m\u001b[43m(\u001b[49m\u001b[43mmodel\u001b[49m\u001b[43m,\u001b[49m\u001b[43m \u001b[49m\u001b[43mtrain_loader\u001b[49m\u001b[43m,\u001b[49m\u001b[43m \u001b[49m\u001b[43mcriterion\u001b[49m\u001b[43m,\u001b[49m\u001b[43m \u001b[49m\u001b[43moptimizer\u001b[49m\u001b[43m)\u001b[49m\n\u001b[0;32m    126\u001b[0m     test_loss, test_accuracy, all_y_test, all_predictions \u001b[38;5;241m=\u001b[39m evaluate_model(model, test_loader, criterion)\n\u001b[0;32m    127\u001b[0m     scheduler\u001b[38;5;241m.\u001b[39mstep()\n",
      "File \u001b[1;32mc:\\Users\\Devon Javier\\OneDrive\\Desktop\\STINTSY\\INTSY PROJ\\src\\trainEval.py:63\u001b[0m, in \u001b[0;36mtrain_one_epoch\u001b[1;34m(model, train_loader, criterion, optimizer)\u001b[0m\n\u001b[0;32m     61\u001b[0m     total_loss \u001b[38;5;241m+\u001b[39m\u001b[38;5;241m=\u001b[39m loss\u001b[38;5;241m.\u001b[39mitem()\n\u001b[0;32m     62\u001b[0m     predicted \u001b[38;5;241m=\u001b[39m (outputs \u001b[38;5;241m>\u001b[39m\u001b[38;5;241m=\u001b[39m \u001b[38;5;241m0.5\u001b[39m)\u001b[38;5;241m.\u001b[39mfloat() \u001b[38;5;66;03m# Convert to binary predictions\u001b[39;00m\n\u001b[1;32m---> 63\u001b[0m     correct \u001b[38;5;241m+\u001b[39m\u001b[38;5;241m=\u001b[39m \u001b[43m(\u001b[49m\u001b[43mpredicted\u001b[49m\u001b[43m \u001b[49m\u001b[38;5;241;43m==\u001b[39;49m\u001b[43m \u001b[49m\u001b[43mlabels\u001b[49m\u001b[43m)\u001b[49m\u001b[38;5;241;43m.\u001b[39;49m\u001b[43msum\u001b[49m\u001b[43m(\u001b[49m\u001b[43m)\u001b[49m\u001b[38;5;241m.\u001b[39mitem()\n\u001b[0;32m     64\u001b[0m     total \u001b[38;5;241m+\u001b[39m\u001b[38;5;241m=\u001b[39m labels\u001b[38;5;241m.\u001b[39msize(\u001b[38;5;241m0\u001b[39m)\n\u001b[0;32m     65\u001b[0m \u001b[38;5;28;01mreturn\u001b[39;00m total_loss \u001b[38;5;241m/\u001b[39m \u001b[38;5;28mlen\u001b[39m(train_loader), correct \u001b[38;5;241m/\u001b[39m total\n",
      "\u001b[1;31mKeyboardInterrupt\u001b[0m: "
     ]
    }
   ],
   "source": [
    "param_distributions = {\n",
    "    'learning_rate': np.logspace(-4, -1, 20),\n",
    "    'batch_size': [32, 64, 128, 256],\n",
    "    'optimizer': ['sgd', 'adam', 'rmsprop'],\n",
    "    'weight_decay': np.logspace(-5, -2, 10),\n",
    "    'num_epochs': [30, 50, 75, 100],\n",
    "    'scheduler_step_size': [5, 10, 15],\n",
    "    'scheduler_gamma': [0.5, 0.7, 0.9],\n",
    "    'patience': [3, 5, 7]\n",
    "}\n",
    "\n",
    "hyperparameter_results = hyperparameter_random_search(folds_data=folds_data, param_distributions=param_distributions, n_iter_search=50) "
   ]
  },
  {
   "cell_type": "markdown",
   "metadata": {},
   "source": [
    "# HPT Interpretation"
   ]
  },
  {
   "cell_type": "code",
   "execution_count": null,
   "metadata": {},
   "outputs": [],
   "source": [
    "##best_params = hyperparameter_results['best_params']\n",
    "##results_summary = hyperparameter_results['summary_df']"
   ]
  },
  {
   "cell_type": "markdown",
   "metadata": {},
   "source": [
    "## Decision Tree (DT)\n",
    "\n",
    "Another machine learning model we can use is the decision tree. Decision trees don't necessarily assume a linear relationship between our predictor variables and PUFC11, which could be benificial for finding complex relationships. Rather, they recursively partition our data with rules. Further, while it can get quite complex as it scales, individual nodes are also uncomplicated in how they are interpreted, which is also helpful for understanding the factors that determine whether an individual has worked within the past week.\n",
    "\n",
    "#### Training: DT\n",
    "We can recycle the one-hot encoded data we used in preparation for Logistic Regression and immediately use it for training our decision tree."
   ]
  },
  {
   "cell_type": "code",
   "execution_count": 95,
   "metadata": {},
   "outputs": [
    {
     "name": "stdout",
     "output_type": "stream",
     "text": [
      "Fold 1 - Train Accuracy: 0.9852, Train Loss: 0.0702, Test Accuracy: 0.9847, Test Loss: 0.0724\n",
      "Fold 1 - Confusion Matrix:\n",
      "[[14020   282]\n",
      " [  206 17286]]\n",
      "\n",
      "Fold 2 - Train Accuracy: 0.9851, Train Loss: 0.0703, Test Accuracy: 0.9849, Test Loss: 0.0712\n",
      "Fold 2 - Confusion Matrix:\n",
      "[[13926   260]\n",
      " [  219 17389]]\n",
      "\n",
      "Fold 3 - Train Accuracy: 0.9850, Train Loss: 0.0706, Test Accuracy: 0.9854, Test Loss: 0.0747\n",
      "Fold 3 - Confusion Matrix:\n",
      "[[14106   243]\n",
      " [  222 17223]]\n",
      "\n",
      "Fold 4 - Train Accuracy: 0.9850, Train Loss: 0.0708, Test Accuracy: 0.9855, Test Loss: 0.0727\n",
      "Fold 4 - Confusion Matrix:\n",
      "[[13951   262]\n",
      " [  200 17380]]\n",
      "\n",
      "Fold 5 - Train Accuracy: 0.9851, Train Loss: 0.0702, Test Accuracy: 0.9850, Test Loss: 0.0724\n",
      "Fold 5 - Confusion Matrix:\n",
      "[[14113   249]\n",
      " [  228 17203]]\n",
      "\n",
      "\n",
      "Aggregated Metrics:\n",
      "Average Train Accuracy: 0.9851\n",
      "Average Train Loss: 0.0704\n",
      "Average Test Accuracy: 0.9851\n",
      "Average Test Loss: 0.0727\n",
      "\n",
      "Overall Confusion Matrix:\n",
      "[[70116  1296]\n",
      " [ 1075 86481]]\n",
      "\n",
      "Classification Report:\n",
      "              precision    recall  f1-score   support\n",
      "\n",
      "           1       0.98      0.98      0.98     14362\n",
      "           2       0.99      0.99      0.99     17431\n",
      "\n",
      "    accuracy                           0.98     31793\n",
      "   macro avg       0.98      0.98      0.98     31793\n",
      "weighted avg       0.98      0.98      0.98     31793\n",
      "\n"
     ]
    }
   ],
   "source": [
    "from sklearn.metrics import accuracy_score, classification_report, log_loss, confusion_matrix\n",
    "from sklearn.tree import DecisionTreeClassifier\n",
    "import numpy as np\n",
    "\n",
    "accuracies_train = []\n",
    "losses_train = []\n",
    "dt_accuracies_test = []\n",
    "losses_test = []\n",
    "confusion_matrices = [] \n",
    "\n",
    "for i in range(5):\n",
    "    X_train, X_test, y_train, y_test = (\n",
    "        folds_data[i]['X_train'],\n",
    "        folds_data[i]['X_test'],\n",
    "        folds_data[i]['y_train'],\n",
    "        folds_data[i]['y_test'],\n",
    "    )\n",
    "\n",
    "    model = DecisionTreeClassifier(random_state=45, min_impurity_decrease=0.001)\n",
    "\n",
    "    model.fit(X_train, y_train)\n",
    "\n",
    "    # Train predictions and loss\n",
    "    y_train_pred = model.predict(X_train)\n",
    "    y_train_pred_proba = model.predict_proba(X_train)\n",
    "    accuracy_train = accuracy_score(y_train, y_train_pred)\n",
    "    loss_train = log_loss(y_train, y_train_pred_proba)\n",
    "\n",
    "    # Test predictions and loss\n",
    "    y_test_pred = model.predict(X_test)\n",
    "    y_test_pred_proba = model.predict_proba(X_test)\n",
    "    accuracy_test = accuracy_score(y_test, y_test_pred)\n",
    "    loss_test = log_loss(y_test, y_test_pred_proba)\n",
    "\n",
    "    # Confusion Matrix\n",
    "    cm = confusion_matrix(y_test, y_test_pred)\n",
    "    confusion_matrices.append(cm)\n",
    "\n",
    "    accuracies_train.append(accuracy_train)\n",
    "    losses_train.append(loss_train)\n",
    "    dt_accuracies_test.append(accuracy_test)\n",
    "    losses_test.append(loss_test)\n",
    "\n",
    "    print(f\"Fold {i+1} - Train Accuracy: {accuracy_train:.4f}, Train Loss: {loss_train:.4f}, Test Accuracy: {accuracy_test:.4f}, Test Loss: {loss_test:.4f}\")\n",
    "    print(f\"Fold {i+1} - Confusion Matrix:\\n{cm}\\n\")\n",
    "\n",
    "avg_accuracy_train = np.mean(accuracies_train)\n",
    "avg_loss_train = np.mean(losses_train)\n",
    "avg_accuracy_test = np.mean(dt_accuracies_test)\n",
    "avg_loss_test = np.mean(losses_test)\n",
    "\n",
    "print(f\"\\nAggregated Metrics:\")\n",
    "print(f\"Average Train Accuracy: {avg_accuracy_train:.4f}\")\n",
    "print(f\"Average Train Loss: {avg_loss_train:.4f}\")\n",
    "print(f\"Average Test Accuracy: {avg_accuracy_test:.4f}\")\n",
    "print(f\"Average Test Loss: {avg_loss_test:.4f}\")\n",
    "\n",
    "print(\"\\nOverall Confusion Matrix:\")\n",
    "print(sum(confusion_matrices))\n",
    "\n",
    "print(\"\\nClassification Report:\")\n",
    "print(classification_report(y_test, y_test_pred))"
   ]
  },
  {
   "cell_type": "markdown",
   "metadata": {},
   "source": [
    "#### Error: DT\n",
    "Our model is also performing well, and with each confusion metric no less than 0.98. As this is a decision tree, a model usually prone to overfitting, we do see minimal overfitting, seeing as our train loss is higher than our test loss by 0.0023, though this is arguably a negligible gap.\n",
    "\n"
   ]
  },
  {
   "cell_type": "markdown",
   "metadata": {},
   "source": [
    "#### Hyperparameter Tuning: DT"
   ]
  },
  {
   "cell_type": "markdown",
   "metadata": {},
   "source": [
    "Similar to our methodology with Logistic Regression, we will implement random search for our tuning as a compromise to exhaustively searching through each hyperparameter combination. This time, we will explicitly define certain thresholds and measures. \n",
    "\n",
    "Our previous two hyperparameters, max_depth and minimum_impurity_decrease, will now range fom 30-60 and 0.001 to 0.1 respectively, adding variability to our parameters despite minimal signs of overfitting. We will allow the min_samples_leaf to enforce generalization or allow leaf nodes with one sample. \n",
    "\n",
    "Of note, we will add cost-complexity pruning as a form of regularizaton for our decision trees. We will also be exploring both gini and entropy as criteria, as the former minimizes chances of misclassification while the latter measures information gain."
   ]
  },
  {
   "cell_type": "markdown",
   "metadata": {},
   "source": [
    "#### Error: DT\n",
    "Our model is also performing well, and with each confusion metric no less than 0.98. As this is a decision tree, a model usually prone to overfitting, we do see minimal overfitting, seeing as our train loss is higher than our test loss by 0.0023, though this is arguably a negligible gap.\n",
    "\n"
   ]
  },
  {
   "cell_type": "code",
   "execution_count": 94,
   "metadata": {},
   "outputs": [
    {
     "name": "stdout",
     "output_type": "stream",
     "text": [
      "Fitting 5 folds for each of 20 candidates, totalling 100 fits\n",
      "Fold 1 - Best Parameters: {'min_samples_split': 5, 'min_samples_leaf': 1, 'min_impurity_decrease': 0.001, 'max_depth': 50, 'criterion': 'entropy', 'ccp_alpha': np.float64(0.0001)}\n",
      "Fold 1 - Accuracy: 0.9857, Precision: 0.9856, Recall: 0.9854, F1-score: 0.9855, Loss: 0.0689\n",
      "Fitting 5 folds for each of 20 candidates, totalling 100 fits\n",
      "Fold 2 - Best Parameters: {'min_samples_split': 5, 'min_samples_leaf': 1, 'min_impurity_decrease': 0.001, 'max_depth': 50, 'criterion': 'entropy', 'ccp_alpha': np.float64(0.0001)}\n",
      "Fold 2 - Accuracy: 0.9860, Precision: 0.9859, Recall: 0.9858, F1-score: 0.9858, Loss: 0.0673\n",
      "Fitting 5 folds for each of 20 candidates, totalling 100 fits\n",
      "Fold 3 - Best Parameters: {'min_samples_split': 5, 'min_samples_leaf': 1, 'min_impurity_decrease': 0.001, 'max_depth': 50, 'criterion': 'entropy', 'ccp_alpha': np.float64(0.0001)}\n",
      "Fold 3 - Accuracy: 0.9863, Precision: 0.9861, Recall: 0.9861, F1-score: 0.9861, Loss: 0.0715\n",
      "Fitting 5 folds for each of 20 candidates, totalling 100 fits\n"
     ]
    },
    {
     "ename": "KeyboardInterrupt",
     "evalue": "",
     "output_type": "error",
     "traceback": [
      "\u001b[1;31m---------------------------------------------------------------------------\u001b[0m",
      "\u001b[1;31mKeyboardInterrupt\u001b[0m                         Traceback (most recent call last)",
      "Cell \u001b[1;32mIn[94], line 35\u001b[0m\n\u001b[0;32m     30\u001b[0m model \u001b[38;5;241m=\u001b[39m DecisionTreeClassifier(random_state\u001b[38;5;241m=\u001b[39m\u001b[38;5;241m45\u001b[39m)\n\u001b[0;32m     32\u001b[0m random_search \u001b[38;5;241m=\u001b[39m RandomizedSearchCV(\n\u001b[0;32m     33\u001b[0m     model, p_grid, n_iter\u001b[38;5;241m=\u001b[39m\u001b[38;5;241m20\u001b[39m, cv\u001b[38;5;241m=\u001b[39m\u001b[38;5;241m5\u001b[39m, scoring\u001b[38;5;241m=\u001b[39m\u001b[38;5;124m\"\u001b[39m\u001b[38;5;124maccuracy\u001b[39m\u001b[38;5;124m\"\u001b[39m, n_jobs\u001b[38;5;241m=\u001b[39m\u001b[38;5;241m-\u001b[39m\u001b[38;5;241m1\u001b[39m, verbose\u001b[38;5;241m=\u001b[39m\u001b[38;5;241m1\u001b[39m, random_state\u001b[38;5;241m=\u001b[39m\u001b[38;5;241m45\u001b[39m\n\u001b[0;32m     34\u001b[0m )\n\u001b[1;32m---> 35\u001b[0m \u001b[43mrandom_search\u001b[49m\u001b[38;5;241;43m.\u001b[39;49m\u001b[43mfit\u001b[49m\u001b[43m(\u001b[49m\u001b[43mX_train\u001b[49m\u001b[43m,\u001b[49m\u001b[43m \u001b[49m\u001b[43my_train\u001b[49m\u001b[43m)\u001b[49m\n\u001b[0;32m     37\u001b[0m best_params_list\u001b[38;5;241m.\u001b[39mappend(random_search\u001b[38;5;241m.\u001b[39mbest_params_)\n\u001b[0;32m     39\u001b[0m accuracies\u001b[38;5;241m.\u001b[39mappend(accuracy_score(y_test, random_search\u001b[38;5;241m.\u001b[39mbest_estimator_\u001b[38;5;241m.\u001b[39mpredict(X_test)))\n",
      "File \u001b[1;32m~\\AppData\\Roaming\\Python\\Python312\\site-packages\\sklearn\\base.py:1389\u001b[0m, in \u001b[0;36m_fit_context.<locals>.decorator.<locals>.wrapper\u001b[1;34m(estimator, *args, **kwargs)\u001b[0m\n\u001b[0;32m   1382\u001b[0m     estimator\u001b[38;5;241m.\u001b[39m_validate_params()\n\u001b[0;32m   1384\u001b[0m \u001b[38;5;28;01mwith\u001b[39;00m config_context(\n\u001b[0;32m   1385\u001b[0m     skip_parameter_validation\u001b[38;5;241m=\u001b[39m(\n\u001b[0;32m   1386\u001b[0m         prefer_skip_nested_validation \u001b[38;5;129;01mor\u001b[39;00m global_skip_validation\n\u001b[0;32m   1387\u001b[0m     )\n\u001b[0;32m   1388\u001b[0m ):\n\u001b[1;32m-> 1389\u001b[0m     \u001b[38;5;28;01mreturn\u001b[39;00m \u001b[43mfit_method\u001b[49m\u001b[43m(\u001b[49m\u001b[43mestimator\u001b[49m\u001b[43m,\u001b[49m\u001b[43m \u001b[49m\u001b[38;5;241;43m*\u001b[39;49m\u001b[43margs\u001b[49m\u001b[43m,\u001b[49m\u001b[43m \u001b[49m\u001b[38;5;241;43m*\u001b[39;49m\u001b[38;5;241;43m*\u001b[39;49m\u001b[43mkwargs\u001b[49m\u001b[43m)\u001b[49m\n",
      "File \u001b[1;32m~\\AppData\\Roaming\\Python\\Python312\\site-packages\\sklearn\\model_selection\\_search.py:1024\u001b[0m, in \u001b[0;36mBaseSearchCV.fit\u001b[1;34m(self, X, y, **params)\u001b[0m\n\u001b[0;32m   1018\u001b[0m     results \u001b[38;5;241m=\u001b[39m \u001b[38;5;28mself\u001b[39m\u001b[38;5;241m.\u001b[39m_format_results(\n\u001b[0;32m   1019\u001b[0m         all_candidate_params, n_splits, all_out, all_more_results\n\u001b[0;32m   1020\u001b[0m     )\n\u001b[0;32m   1022\u001b[0m     \u001b[38;5;28;01mreturn\u001b[39;00m results\n\u001b[1;32m-> 1024\u001b[0m \u001b[38;5;28;43mself\u001b[39;49m\u001b[38;5;241;43m.\u001b[39;49m\u001b[43m_run_search\u001b[49m\u001b[43m(\u001b[49m\u001b[43mevaluate_candidates\u001b[49m\u001b[43m)\u001b[49m\n\u001b[0;32m   1026\u001b[0m \u001b[38;5;66;03m# multimetric is determined here because in the case of a callable\u001b[39;00m\n\u001b[0;32m   1027\u001b[0m \u001b[38;5;66;03m# self.scoring the return type is only known after calling\u001b[39;00m\n\u001b[0;32m   1028\u001b[0m first_test_score \u001b[38;5;241m=\u001b[39m all_out[\u001b[38;5;241m0\u001b[39m][\u001b[38;5;124m\"\u001b[39m\u001b[38;5;124mtest_scores\u001b[39m\u001b[38;5;124m\"\u001b[39m]\n",
      "File \u001b[1;32m~\\AppData\\Roaming\\Python\\Python312\\site-packages\\sklearn\\model_selection\\_search.py:1951\u001b[0m, in \u001b[0;36mRandomizedSearchCV._run_search\u001b[1;34m(self, evaluate_candidates)\u001b[0m\n\u001b[0;32m   1949\u001b[0m \u001b[38;5;28;01mdef\u001b[39;00m\u001b[38;5;250m \u001b[39m\u001b[38;5;21m_run_search\u001b[39m(\u001b[38;5;28mself\u001b[39m, evaluate_candidates):\n\u001b[0;32m   1950\u001b[0m \u001b[38;5;250m    \u001b[39m\u001b[38;5;124;03m\"\"\"Search n_iter candidates from param_distributions\"\"\"\u001b[39;00m\n\u001b[1;32m-> 1951\u001b[0m     \u001b[43mevaluate_candidates\u001b[49m\u001b[43m(\u001b[49m\n\u001b[0;32m   1952\u001b[0m \u001b[43m        \u001b[49m\u001b[43mParameterSampler\u001b[49m\u001b[43m(\u001b[49m\n\u001b[0;32m   1953\u001b[0m \u001b[43m            \u001b[49m\u001b[38;5;28;43mself\u001b[39;49m\u001b[38;5;241;43m.\u001b[39;49m\u001b[43mparam_distributions\u001b[49m\u001b[43m,\u001b[49m\u001b[43m \u001b[49m\u001b[38;5;28;43mself\u001b[39;49m\u001b[38;5;241;43m.\u001b[39;49m\u001b[43mn_iter\u001b[49m\u001b[43m,\u001b[49m\u001b[43m \u001b[49m\u001b[43mrandom_state\u001b[49m\u001b[38;5;241;43m=\u001b[39;49m\u001b[38;5;28;43mself\u001b[39;49m\u001b[38;5;241;43m.\u001b[39;49m\u001b[43mrandom_state\u001b[49m\n\u001b[0;32m   1954\u001b[0m \u001b[43m        \u001b[49m\u001b[43m)\u001b[49m\n\u001b[0;32m   1955\u001b[0m \u001b[43m    \u001b[49m\u001b[43m)\u001b[49m\n",
      "File \u001b[1;32m~\\AppData\\Roaming\\Python\\Python312\\site-packages\\sklearn\\model_selection\\_search.py:970\u001b[0m, in \u001b[0;36mBaseSearchCV.fit.<locals>.evaluate_candidates\u001b[1;34m(candidate_params, cv, more_results)\u001b[0m\n\u001b[0;32m    962\u001b[0m \u001b[38;5;28;01mif\u001b[39;00m \u001b[38;5;28mself\u001b[39m\u001b[38;5;241m.\u001b[39mverbose \u001b[38;5;241m>\u001b[39m \u001b[38;5;241m0\u001b[39m:\n\u001b[0;32m    963\u001b[0m     \u001b[38;5;28mprint\u001b[39m(\n\u001b[0;32m    964\u001b[0m         \u001b[38;5;124m\"\u001b[39m\u001b[38;5;124mFitting \u001b[39m\u001b[38;5;132;01m{0}\u001b[39;00m\u001b[38;5;124m folds for each of \u001b[39m\u001b[38;5;132;01m{1}\u001b[39;00m\u001b[38;5;124m candidates,\u001b[39m\u001b[38;5;124m\"\u001b[39m\n\u001b[0;32m    965\u001b[0m         \u001b[38;5;124m\"\u001b[39m\u001b[38;5;124m totalling \u001b[39m\u001b[38;5;132;01m{2}\u001b[39;00m\u001b[38;5;124m fits\u001b[39m\u001b[38;5;124m\"\u001b[39m\u001b[38;5;241m.\u001b[39mformat(\n\u001b[0;32m    966\u001b[0m             n_splits, n_candidates, n_candidates \u001b[38;5;241m*\u001b[39m n_splits\n\u001b[0;32m    967\u001b[0m         )\n\u001b[0;32m    968\u001b[0m     )\n\u001b[1;32m--> 970\u001b[0m out \u001b[38;5;241m=\u001b[39m \u001b[43mparallel\u001b[49m\u001b[43m(\u001b[49m\n\u001b[0;32m    971\u001b[0m \u001b[43m    \u001b[49m\u001b[43mdelayed\u001b[49m\u001b[43m(\u001b[49m\u001b[43m_fit_and_score\u001b[49m\u001b[43m)\u001b[49m\u001b[43m(\u001b[49m\n\u001b[0;32m    972\u001b[0m \u001b[43m        \u001b[49m\u001b[43mclone\u001b[49m\u001b[43m(\u001b[49m\u001b[43mbase_estimator\u001b[49m\u001b[43m)\u001b[49m\u001b[43m,\u001b[49m\n\u001b[0;32m    973\u001b[0m \u001b[43m        \u001b[49m\u001b[43mX\u001b[49m\u001b[43m,\u001b[49m\n\u001b[0;32m    974\u001b[0m \u001b[43m        \u001b[49m\u001b[43my\u001b[49m\u001b[43m,\u001b[49m\n\u001b[0;32m    975\u001b[0m \u001b[43m        \u001b[49m\u001b[43mtrain\u001b[49m\u001b[38;5;241;43m=\u001b[39;49m\u001b[43mtrain\u001b[49m\u001b[43m,\u001b[49m\n\u001b[0;32m    976\u001b[0m \u001b[43m        \u001b[49m\u001b[43mtest\u001b[49m\u001b[38;5;241;43m=\u001b[39;49m\u001b[43mtest\u001b[49m\u001b[43m,\u001b[49m\n\u001b[0;32m    977\u001b[0m \u001b[43m        \u001b[49m\u001b[43mparameters\u001b[49m\u001b[38;5;241;43m=\u001b[39;49m\u001b[43mparameters\u001b[49m\u001b[43m,\u001b[49m\n\u001b[0;32m    978\u001b[0m \u001b[43m        \u001b[49m\u001b[43msplit_progress\u001b[49m\u001b[38;5;241;43m=\u001b[39;49m\u001b[43m(\u001b[49m\u001b[43msplit_idx\u001b[49m\u001b[43m,\u001b[49m\u001b[43m \u001b[49m\u001b[43mn_splits\u001b[49m\u001b[43m)\u001b[49m\u001b[43m,\u001b[49m\n\u001b[0;32m    979\u001b[0m \u001b[43m        \u001b[49m\u001b[43mcandidate_progress\u001b[49m\u001b[38;5;241;43m=\u001b[39;49m\u001b[43m(\u001b[49m\u001b[43mcand_idx\u001b[49m\u001b[43m,\u001b[49m\u001b[43m \u001b[49m\u001b[43mn_candidates\u001b[49m\u001b[43m)\u001b[49m\u001b[43m,\u001b[49m\n\u001b[0;32m    980\u001b[0m \u001b[43m        \u001b[49m\u001b[38;5;241;43m*\u001b[39;49m\u001b[38;5;241;43m*\u001b[39;49m\u001b[43mfit_and_score_kwargs\u001b[49m\u001b[43m,\u001b[49m\n\u001b[0;32m    981\u001b[0m \u001b[43m    \u001b[49m\u001b[43m)\u001b[49m\n\u001b[0;32m    982\u001b[0m \u001b[43m    \u001b[49m\u001b[38;5;28;43;01mfor\u001b[39;49;00m\u001b[43m \u001b[49m\u001b[43m(\u001b[49m\u001b[43mcand_idx\u001b[49m\u001b[43m,\u001b[49m\u001b[43m \u001b[49m\u001b[43mparameters\u001b[49m\u001b[43m)\u001b[49m\u001b[43m,\u001b[49m\u001b[43m \u001b[49m\u001b[43m(\u001b[49m\u001b[43msplit_idx\u001b[49m\u001b[43m,\u001b[49m\u001b[43m \u001b[49m\u001b[43m(\u001b[49m\u001b[43mtrain\u001b[49m\u001b[43m,\u001b[49m\u001b[43m \u001b[49m\u001b[43mtest\u001b[49m\u001b[43m)\u001b[49m\u001b[43m)\u001b[49m\u001b[43m \u001b[49m\u001b[38;5;129;43;01min\u001b[39;49;00m\u001b[43m \u001b[49m\u001b[43mproduct\u001b[49m\u001b[43m(\u001b[49m\n\u001b[0;32m    983\u001b[0m \u001b[43m        \u001b[49m\u001b[38;5;28;43menumerate\u001b[39;49m\u001b[43m(\u001b[49m\u001b[43mcandidate_params\u001b[49m\u001b[43m)\u001b[49m\u001b[43m,\u001b[49m\n\u001b[0;32m    984\u001b[0m \u001b[43m        \u001b[49m\u001b[38;5;28;43menumerate\u001b[39;49m\u001b[43m(\u001b[49m\u001b[43mcv\u001b[49m\u001b[38;5;241;43m.\u001b[39;49m\u001b[43msplit\u001b[49m\u001b[43m(\u001b[49m\u001b[43mX\u001b[49m\u001b[43m,\u001b[49m\u001b[43m \u001b[49m\u001b[43my\u001b[49m\u001b[43m,\u001b[49m\u001b[43m \u001b[49m\u001b[38;5;241;43m*\u001b[39;49m\u001b[38;5;241;43m*\u001b[39;49m\u001b[43mrouted_params\u001b[49m\u001b[38;5;241;43m.\u001b[39;49m\u001b[43msplitter\u001b[49m\u001b[38;5;241;43m.\u001b[39;49m\u001b[43msplit\u001b[49m\u001b[43m)\u001b[49m\u001b[43m)\u001b[49m\u001b[43m,\u001b[49m\n\u001b[0;32m    985\u001b[0m \u001b[43m    \u001b[49m\u001b[43m)\u001b[49m\n\u001b[0;32m    986\u001b[0m \u001b[43m\u001b[49m\u001b[43m)\u001b[49m\n\u001b[0;32m    988\u001b[0m \u001b[38;5;28;01mif\u001b[39;00m \u001b[38;5;28mlen\u001b[39m(out) \u001b[38;5;241m<\u001b[39m \u001b[38;5;241m1\u001b[39m:\n\u001b[0;32m    989\u001b[0m     \u001b[38;5;28;01mraise\u001b[39;00m \u001b[38;5;167;01mValueError\u001b[39;00m(\n\u001b[0;32m    990\u001b[0m         \u001b[38;5;124m\"\u001b[39m\u001b[38;5;124mNo fits were performed. \u001b[39m\u001b[38;5;124m\"\u001b[39m\n\u001b[0;32m    991\u001b[0m         \u001b[38;5;124m\"\u001b[39m\u001b[38;5;124mWas the CV iterator empty? \u001b[39m\u001b[38;5;124m\"\u001b[39m\n\u001b[0;32m    992\u001b[0m         \u001b[38;5;124m\"\u001b[39m\u001b[38;5;124mWere there no candidates?\u001b[39m\u001b[38;5;124m\"\u001b[39m\n\u001b[0;32m    993\u001b[0m     )\n",
      "File \u001b[1;32m~\\AppData\\Roaming\\Python\\Python312\\site-packages\\sklearn\\utils\\parallel.py:77\u001b[0m, in \u001b[0;36mParallel.__call__\u001b[1;34m(self, iterable)\u001b[0m\n\u001b[0;32m     72\u001b[0m config \u001b[38;5;241m=\u001b[39m get_config()\n\u001b[0;32m     73\u001b[0m iterable_with_config \u001b[38;5;241m=\u001b[39m (\n\u001b[0;32m     74\u001b[0m     (_with_config(delayed_func, config), args, kwargs)\n\u001b[0;32m     75\u001b[0m     \u001b[38;5;28;01mfor\u001b[39;00m delayed_func, args, kwargs \u001b[38;5;129;01min\u001b[39;00m iterable\n\u001b[0;32m     76\u001b[0m )\n\u001b[1;32m---> 77\u001b[0m \u001b[38;5;28;01mreturn\u001b[39;00m \u001b[38;5;28;43msuper\u001b[39;49m\u001b[43m(\u001b[49m\u001b[43m)\u001b[49m\u001b[38;5;241;43m.\u001b[39;49m\u001b[38;5;21;43m__call__\u001b[39;49m\u001b[43m(\u001b[49m\u001b[43miterable_with_config\u001b[49m\u001b[43m)\u001b[49m\n",
      "File \u001b[1;32m~\\AppData\\Roaming\\Python\\Python312\\site-packages\\joblib\\parallel.py:2007\u001b[0m, in \u001b[0;36mParallel.__call__\u001b[1;34m(self, iterable)\u001b[0m\n\u001b[0;32m   2001\u001b[0m \u001b[38;5;66;03m# The first item from the output is blank, but it makes the interpreter\u001b[39;00m\n\u001b[0;32m   2002\u001b[0m \u001b[38;5;66;03m# progress until it enters the Try/Except block of the generator and\u001b[39;00m\n\u001b[0;32m   2003\u001b[0m \u001b[38;5;66;03m# reaches the first `yield` statement. This starts the asynchronous\u001b[39;00m\n\u001b[0;32m   2004\u001b[0m \u001b[38;5;66;03m# dispatch of the tasks to the workers.\u001b[39;00m\n\u001b[0;32m   2005\u001b[0m \u001b[38;5;28mnext\u001b[39m(output)\n\u001b[1;32m-> 2007\u001b[0m \u001b[38;5;28;01mreturn\u001b[39;00m output \u001b[38;5;28;01mif\u001b[39;00m \u001b[38;5;28mself\u001b[39m\u001b[38;5;241m.\u001b[39mreturn_generator \u001b[38;5;28;01melse\u001b[39;00m \u001b[38;5;28;43mlist\u001b[39;49m\u001b[43m(\u001b[49m\u001b[43moutput\u001b[49m\u001b[43m)\u001b[49m\n",
      "File \u001b[1;32m~\\AppData\\Roaming\\Python\\Python312\\site-packages\\joblib\\parallel.py:1650\u001b[0m, in \u001b[0;36mParallel._get_outputs\u001b[1;34m(self, iterator, pre_dispatch)\u001b[0m\n\u001b[0;32m   1647\u001b[0m     \u001b[38;5;28;01myield\u001b[39;00m\n\u001b[0;32m   1649\u001b[0m     \u001b[38;5;28;01mwith\u001b[39;00m \u001b[38;5;28mself\u001b[39m\u001b[38;5;241m.\u001b[39m_backend\u001b[38;5;241m.\u001b[39mretrieval_context():\n\u001b[1;32m-> 1650\u001b[0m         \u001b[38;5;28;01myield from\u001b[39;00m \u001b[38;5;28mself\u001b[39m\u001b[38;5;241m.\u001b[39m_retrieve()\n\u001b[0;32m   1652\u001b[0m \u001b[38;5;28;01mexcept\u001b[39;00m \u001b[38;5;167;01mGeneratorExit\u001b[39;00m:\n\u001b[0;32m   1653\u001b[0m     \u001b[38;5;66;03m# The generator has been garbage collected before being fully\u001b[39;00m\n\u001b[0;32m   1654\u001b[0m     \u001b[38;5;66;03m# consumed. This aborts the remaining tasks if possible and warn\u001b[39;00m\n\u001b[0;32m   1655\u001b[0m     \u001b[38;5;66;03m# the user if necessary.\u001b[39;00m\n\u001b[0;32m   1656\u001b[0m     \u001b[38;5;28mself\u001b[39m\u001b[38;5;241m.\u001b[39m_exception \u001b[38;5;241m=\u001b[39m \u001b[38;5;28;01mTrue\u001b[39;00m\n",
      "File \u001b[1;32m~\\AppData\\Roaming\\Python\\Python312\\site-packages\\joblib\\parallel.py:1762\u001b[0m, in \u001b[0;36mParallel._retrieve\u001b[1;34m(self)\u001b[0m\n\u001b[0;32m   1757\u001b[0m \u001b[38;5;66;03m# If the next job is not ready for retrieval yet, we just wait for\u001b[39;00m\n\u001b[0;32m   1758\u001b[0m \u001b[38;5;66;03m# async callbacks to progress.\u001b[39;00m\n\u001b[0;32m   1759\u001b[0m \u001b[38;5;28;01mif\u001b[39;00m ((\u001b[38;5;28mlen\u001b[39m(\u001b[38;5;28mself\u001b[39m\u001b[38;5;241m.\u001b[39m_jobs) \u001b[38;5;241m==\u001b[39m \u001b[38;5;241m0\u001b[39m) \u001b[38;5;129;01mor\u001b[39;00m\n\u001b[0;32m   1760\u001b[0m     (\u001b[38;5;28mself\u001b[39m\u001b[38;5;241m.\u001b[39m_jobs[\u001b[38;5;241m0\u001b[39m]\u001b[38;5;241m.\u001b[39mget_status(\n\u001b[0;32m   1761\u001b[0m         timeout\u001b[38;5;241m=\u001b[39m\u001b[38;5;28mself\u001b[39m\u001b[38;5;241m.\u001b[39mtimeout) \u001b[38;5;241m==\u001b[39m TASK_PENDING)):\n\u001b[1;32m-> 1762\u001b[0m     \u001b[43mtime\u001b[49m\u001b[38;5;241;43m.\u001b[39;49m\u001b[43msleep\u001b[49m\u001b[43m(\u001b[49m\u001b[38;5;241;43m0.01\u001b[39;49m\u001b[43m)\u001b[49m\n\u001b[0;32m   1763\u001b[0m     \u001b[38;5;28;01mcontinue\u001b[39;00m\n\u001b[0;32m   1765\u001b[0m \u001b[38;5;66;03m# We need to be careful: the job list can be filling up as\u001b[39;00m\n\u001b[0;32m   1766\u001b[0m \u001b[38;5;66;03m# we empty it and Python list are not thread-safe by\u001b[39;00m\n\u001b[0;32m   1767\u001b[0m \u001b[38;5;66;03m# default hence the use of the lock\u001b[39;00m\n",
      "\u001b[1;31mKeyboardInterrupt\u001b[0m: "
     ]
    }
   ],
   "source": [
    "from sklearn.model_selection import RandomizedSearchCV\n",
    "from sklearn.tree import DecisionTreeClassifier\n",
    "import numpy as np\n",
    "from sklearn.metrics import accuracy_score, classification_report, log_loss\n",
    "\n",
    "p_grid = {\n",
    "    \"criterion\": [\"gini\", \"entropy\"],\n",
    "    \"max_depth\": [30, 45, 50, 60],\n",
    "    \"min_samples_split\": [2, 5, 10],\n",
    "    \"min_samples_leaf\": [1, 2, 4],\n",
    "    \"min_impurity_decrease\": [0.001, 0.005, 0.01], ## pre-pruning\n",
    "    \"ccp_alpha\": np.logspace(-4, 0, 10) ## post-pruning\n",
    "}\n",
    "\n",
    "best_params_list = []\n",
    "accuracies = []\n",
    "precisions = []\n",
    "recalls = []\n",
    "f1_scores = []\n",
    "losses = []\n",
    "\n",
    "for i in range(5):\n",
    "    X_train, X_test, y_train, y_test = (\n",
    "        folds_data[i]['X_train'],\n",
    "        folds_data[i]['X_test'],\n",
    "        folds_data[i]['y_train'],\n",
    "        folds_data[i]['y_test'],\n",
    "    )\n",
    "\n",
    "    model = DecisionTreeClassifier(random_state=45)\n",
    "\n",
    "    random_search = RandomizedSearchCV(\n",
    "        model, p_grid, n_iter=20, cv=5, scoring=\"accuracy\", n_jobs=-1, verbose=1, random_state=45\n",
    "    )\n",
    "    random_search.fit(X_train, y_train)\n",
    "\n",
    "    best_params_list.append(random_search.best_params_)\n",
    "\n",
    "    accuracies.append(accuracy_score(y_test, random_search.best_estimator_.predict(X_test)))\n",
    "    report = classification_report(y_test, random_search.best_estimator_.predict(X_test), output_dict=True, zero_division=0)\n",
    "    losses.append(log_loss(y_test, random_search.best_estimator_.predict_proba(X_test)))\n",
    "    precisions.append(report['macro avg']['precision'])\n",
    "    recalls.append(report['macro avg']['recall'])\n",
    "    f1_scores.append(report['macro avg']['f1-score'])\n",
    "\n",
    "    print(f\"Fold {i+1} - Best Parameters: {random_search.best_params_}\")\n",
    "    print(f\"Fold {i+1} - Accuracy: {accuracies[-1]:.4f}, Precision: {precisions[-1]:.4f}, Recall: {recalls[-1]:.4f}, F1-score: {f1_scores[-1]:.4f}, Loss: {losses[-1]:.4f}\")\n",
    "\n",
    "\n",
    "avg_accuracy = np.mean(accuracies)\n",
    "avg_precision = np.mean(precisions)\n",
    "avg_recall = np.mean(recalls)\n",
    "avg_f1 = np.mean(f1_scores)\n",
    "avg_loss = np.mean(losses)\n",
    "\n",
    "print(f\"\\nAggregated Metrics:\")\n",
    "print(f\"Average Accuracy: {avg_accuracy:.4f}\")\n",
    "print(f\"Average Precision: {avg_precision:.4f}\")\n",
    "print(f\"Average Recall: {avg_recall:.4f}\")\n",
    "print(f\"Average F1-score: {avg_f1:.4f}\")\n",
    "print(f\"Average Loss: {avg_loss:.4f}\")\n",
    "print(\"\\nBest Parameters for each fold:\")\n",
    "for i, params in enumerate(best_params_list):\n",
    "    print(f\"Fold {i+1}: {params}\")\n",
    "\n",
    "\n",
    "best_fold_index = np.argmax(accuracies)\n",
    "best_fold_params = best_params_list[best_fold_index]\n",
    "print(\"\\nBest Performing Fold Parameters:\", best_fold_params)\n",
    "\n",
    "\n",
    "best_model = DecisionTreeClassifier(random_state=45, **best_fold_params)\n",
    "\n",
    "\n",
    "all_X_train = np.concatenate([folds_data[i]['X_train'] for i in range(5)])\n",
    "all_y_train = np.concatenate([folds_data[i]['y_train'] for i in range(5)])\n",
    "\n",
    "best_model.fit(all_X_train, all_y_train)\n"
   ]
  },
  {
   "cell_type": "code",
   "execution_count": 96,
   "metadata": {},
   "outputs": [
    {
     "name": "stderr",
     "output_type": "stream",
     "text": [
      "C:\\Users\\Devon Javier\\AppData\\Roaming\\Python\\Python312\\site-packages\\sklearn\\utils\\validation.py:2732: UserWarning: X has feature names, but DecisionTreeClassifier was fitted without feature names\n",
      "  warnings.warn(\n"
     ]
    },
    {
     "ename": "ValueError",
     "evalue": "X has 135 features, but DecisionTreeClassifier is expecting 160 features as input.",
     "output_type": "error",
     "traceback": [
      "\u001b[1;31m---------------------------------------------------------------------------\u001b[0m",
      "\u001b[1;31mValueError\u001b[0m                                Traceback (most recent call last)",
      "Cell \u001b[1;32mIn[96], line 5\u001b[0m\n\u001b[0;32m      2\u001b[0m \u001b[38;5;28;01mimport\u001b[39;00m\u001b[38;5;250m \u001b[39m\u001b[38;5;21;01mmatplotlib\u001b[39;00m\u001b[38;5;21;01m.\u001b[39;00m\u001b[38;5;21;01mpyplot\u001b[39;00m\u001b[38;5;250m \u001b[39m\u001b[38;5;28;01mas\u001b[39;00m\u001b[38;5;250m \u001b[39m\u001b[38;5;21;01mplt\u001b[39;00m\n\u001b[0;32m      3\u001b[0m \u001b[38;5;28;01mimport\u001b[39;00m\u001b[38;5;250m \u001b[39m\u001b[38;5;21;01mseaborn\u001b[39;00m\u001b[38;5;250m \u001b[39m\u001b[38;5;28;01mas\u001b[39;00m\u001b[38;5;250m \u001b[39m\u001b[38;5;21;01msns\u001b[39;00m\n\u001b[1;32m----> 5\u001b[0m train_preds \u001b[38;5;241m=\u001b[39m \u001b[43mbest_model\u001b[49m\u001b[38;5;241;43m.\u001b[39;49m\u001b[43mpredict\u001b[49m\u001b[43m(\u001b[49m\u001b[43mX_train\u001b[49m\u001b[43m)\u001b[49m\n\u001b[0;32m      6\u001b[0m train_acc \u001b[38;5;241m=\u001b[39m accuracy_score(y_train, train_preds)\n\u001b[0;32m      8\u001b[0m test_preds \u001b[38;5;241m=\u001b[39m best_model\u001b[38;5;241m.\u001b[39mpredict(X_test)\n",
      "File \u001b[1;32m~\\AppData\\Roaming\\Python\\Python312\\site-packages\\sklearn\\tree\\_classes.py:530\u001b[0m, in \u001b[0;36mBaseDecisionTree.predict\u001b[1;34m(self, X, check_input)\u001b[0m\n\u001b[0;32m    507\u001b[0m \u001b[38;5;250m\u001b[39m\u001b[38;5;124;03m\"\"\"Predict class or regression value for X.\u001b[39;00m\n\u001b[0;32m    508\u001b[0m \n\u001b[0;32m    509\u001b[0m \u001b[38;5;124;03mFor a classification model, the predicted class for each sample in X is\u001b[39;00m\n\u001b[1;32m   (...)\u001b[0m\n\u001b[0;32m    527\u001b[0m \u001b[38;5;124;03m    The predicted classes, or the predict values.\u001b[39;00m\n\u001b[0;32m    528\u001b[0m \u001b[38;5;124;03m\"\"\"\u001b[39;00m\n\u001b[0;32m    529\u001b[0m check_is_fitted(\u001b[38;5;28mself\u001b[39m)\n\u001b[1;32m--> 530\u001b[0m X \u001b[38;5;241m=\u001b[39m \u001b[38;5;28;43mself\u001b[39;49m\u001b[38;5;241;43m.\u001b[39;49m\u001b[43m_validate_X_predict\u001b[49m\u001b[43m(\u001b[49m\u001b[43mX\u001b[49m\u001b[43m,\u001b[49m\u001b[43m \u001b[49m\u001b[43mcheck_input\u001b[49m\u001b[43m)\u001b[49m\n\u001b[0;32m    531\u001b[0m proba \u001b[38;5;241m=\u001b[39m \u001b[38;5;28mself\u001b[39m\u001b[38;5;241m.\u001b[39mtree_\u001b[38;5;241m.\u001b[39mpredict(X)\n\u001b[0;32m    532\u001b[0m n_samples \u001b[38;5;241m=\u001b[39m X\u001b[38;5;241m.\u001b[39mshape[\u001b[38;5;241m0\u001b[39m]\n",
      "File \u001b[1;32m~\\AppData\\Roaming\\Python\\Python312\\site-packages\\sklearn\\tree\\_classes.py:489\u001b[0m, in \u001b[0;36mBaseDecisionTree._validate_X_predict\u001b[1;34m(self, X, check_input)\u001b[0m\n\u001b[0;32m    487\u001b[0m \u001b[38;5;28;01melse\u001b[39;00m:\n\u001b[0;32m    488\u001b[0m     ensure_all_finite \u001b[38;5;241m=\u001b[39m \u001b[38;5;28;01mTrue\u001b[39;00m\n\u001b[1;32m--> 489\u001b[0m X \u001b[38;5;241m=\u001b[39m \u001b[43mvalidate_data\u001b[49m\u001b[43m(\u001b[49m\n\u001b[0;32m    490\u001b[0m \u001b[43m    \u001b[49m\u001b[38;5;28;43mself\u001b[39;49m\u001b[43m,\u001b[49m\n\u001b[0;32m    491\u001b[0m \u001b[43m    \u001b[49m\u001b[43mX\u001b[49m\u001b[43m,\u001b[49m\n\u001b[0;32m    492\u001b[0m \u001b[43m    \u001b[49m\u001b[43mdtype\u001b[49m\u001b[38;5;241;43m=\u001b[39;49m\u001b[43mDTYPE\u001b[49m\u001b[43m,\u001b[49m\n\u001b[0;32m    493\u001b[0m \u001b[43m    \u001b[49m\u001b[43maccept_sparse\u001b[49m\u001b[38;5;241;43m=\u001b[39;49m\u001b[38;5;124;43m\"\u001b[39;49m\u001b[38;5;124;43mcsr\u001b[39;49m\u001b[38;5;124;43m\"\u001b[39;49m\u001b[43m,\u001b[49m\n\u001b[0;32m    494\u001b[0m \u001b[43m    \u001b[49m\u001b[43mreset\u001b[49m\u001b[38;5;241;43m=\u001b[39;49m\u001b[38;5;28;43;01mFalse\u001b[39;49;00m\u001b[43m,\u001b[49m\n\u001b[0;32m    495\u001b[0m \u001b[43m    \u001b[49m\u001b[43mensure_all_finite\u001b[49m\u001b[38;5;241;43m=\u001b[39;49m\u001b[43mensure_all_finite\u001b[49m\u001b[43m,\u001b[49m\n\u001b[0;32m    496\u001b[0m \u001b[43m\u001b[49m\u001b[43m)\u001b[49m\n\u001b[0;32m    497\u001b[0m \u001b[38;5;28;01mif\u001b[39;00m issparse(X) \u001b[38;5;129;01mand\u001b[39;00m (\n\u001b[0;32m    498\u001b[0m     X\u001b[38;5;241m.\u001b[39mindices\u001b[38;5;241m.\u001b[39mdtype \u001b[38;5;241m!=\u001b[39m np\u001b[38;5;241m.\u001b[39mintc \u001b[38;5;129;01mor\u001b[39;00m X\u001b[38;5;241m.\u001b[39mindptr\u001b[38;5;241m.\u001b[39mdtype \u001b[38;5;241m!=\u001b[39m np\u001b[38;5;241m.\u001b[39mintc\n\u001b[0;32m    499\u001b[0m ):\n\u001b[0;32m    500\u001b[0m     \u001b[38;5;28;01mraise\u001b[39;00m \u001b[38;5;167;01mValueError\u001b[39;00m(\u001b[38;5;124m\"\u001b[39m\u001b[38;5;124mNo support for np.int64 index based sparse matrices\u001b[39m\u001b[38;5;124m\"\u001b[39m)\n",
      "File \u001b[1;32m~\\AppData\\Roaming\\Python\\Python312\\site-packages\\sklearn\\utils\\validation.py:2965\u001b[0m, in \u001b[0;36mvalidate_data\u001b[1;34m(_estimator, X, y, reset, validate_separately, skip_check_array, **check_params)\u001b[0m\n\u001b[0;32m   2962\u001b[0m     out \u001b[38;5;241m=\u001b[39m X, y\n\u001b[0;32m   2964\u001b[0m \u001b[38;5;28;01mif\u001b[39;00m \u001b[38;5;129;01mnot\u001b[39;00m no_val_X \u001b[38;5;129;01mand\u001b[39;00m check_params\u001b[38;5;241m.\u001b[39mget(\u001b[38;5;124m\"\u001b[39m\u001b[38;5;124mensure_2d\u001b[39m\u001b[38;5;124m\"\u001b[39m, \u001b[38;5;28;01mTrue\u001b[39;00m):\n\u001b[1;32m-> 2965\u001b[0m     \u001b[43m_check_n_features\u001b[49m\u001b[43m(\u001b[49m\u001b[43m_estimator\u001b[49m\u001b[43m,\u001b[49m\u001b[43m \u001b[49m\u001b[43mX\u001b[49m\u001b[43m,\u001b[49m\u001b[43m \u001b[49m\u001b[43mreset\u001b[49m\u001b[38;5;241;43m=\u001b[39;49m\u001b[43mreset\u001b[49m\u001b[43m)\u001b[49m\n\u001b[0;32m   2967\u001b[0m \u001b[38;5;28;01mreturn\u001b[39;00m out\n",
      "File \u001b[1;32m~\\AppData\\Roaming\\Python\\Python312\\site-packages\\sklearn\\utils\\validation.py:2829\u001b[0m, in \u001b[0;36m_check_n_features\u001b[1;34m(estimator, X, reset)\u001b[0m\n\u001b[0;32m   2826\u001b[0m     \u001b[38;5;28;01mreturn\u001b[39;00m\n\u001b[0;32m   2828\u001b[0m \u001b[38;5;28;01mif\u001b[39;00m n_features \u001b[38;5;241m!=\u001b[39m estimator\u001b[38;5;241m.\u001b[39mn_features_in_:\n\u001b[1;32m-> 2829\u001b[0m     \u001b[38;5;28;01mraise\u001b[39;00m \u001b[38;5;167;01mValueError\u001b[39;00m(\n\u001b[0;32m   2830\u001b[0m         \u001b[38;5;124mf\u001b[39m\u001b[38;5;124m\"\u001b[39m\u001b[38;5;124mX has \u001b[39m\u001b[38;5;132;01m{\u001b[39;00mn_features\u001b[38;5;132;01m}\u001b[39;00m\u001b[38;5;124m features, but \u001b[39m\u001b[38;5;132;01m{\u001b[39;00mestimator\u001b[38;5;241m.\u001b[39m\u001b[38;5;18m__class__\u001b[39m\u001b[38;5;241m.\u001b[39m\u001b[38;5;18m__name__\u001b[39m\u001b[38;5;132;01m}\u001b[39;00m\u001b[38;5;124m \u001b[39m\u001b[38;5;124m\"\u001b[39m\n\u001b[0;32m   2831\u001b[0m         \u001b[38;5;124mf\u001b[39m\u001b[38;5;124m\"\u001b[39m\u001b[38;5;124mis expecting \u001b[39m\u001b[38;5;132;01m{\u001b[39;00mestimator\u001b[38;5;241m.\u001b[39mn_features_in_\u001b[38;5;132;01m}\u001b[39;00m\u001b[38;5;124m features as input.\u001b[39m\u001b[38;5;124m\"\u001b[39m\n\u001b[0;32m   2832\u001b[0m     )\n",
      "\u001b[1;31mValueError\u001b[0m: X has 135 features, but DecisionTreeClassifier is expecting 160 features as input."
     ]
    }
   ],
   "source": [
    "from sklearn.metrics import confusion_matrix, log_loss, accuracy_score, precision_score, recall_score, f1_score\n",
    "import matplotlib.pyplot as plt\n",
    "import seaborn as sns\n",
    "\n",
    "train_preds = best_model.predict(X_train)\n",
    "train_acc = accuracy_score(y_train, train_preds)\n",
    "\n",
    "test_preds = best_model.predict(X_test)\n",
    "test_acc = accuracy_score(y_test, test_preds)\n",
    "\n",
    "train_probs = best_model.predict_proba(X_train)\n",
    "test_probs = best_model.predict_proba(X_test)\n",
    "train_loss = log_loss(y_train, train_probs)\n",
    "test_loss = log_loss(y_test, test_probs)\n",
    "\n",
    "cm = confusion_matrix(y_test, test_preds)  \n",
    "plt.figure(figsize=(6, 5))\n",
    "sns.heatmap(cm, annot=True, fmt=\"d\", cmap=\"Blues\", cbar=False, \n",
    "            xticklabels=[\"Predicted Negative\", \"Predicted Positive\"], \n",
    "            yticklabels=[\"Actual Negative\", \"Actual Positive\"])\n",
    "\n",
    "\n",
    "plt.xlabel(\"Predicted\")\n",
    "plt.ylabel(\"Actual\")\n",
    "plt.title(\"Confusion Matrix\")\n",
    "\n",
    "\n",
    "plt.show()\n",
    "\n",
    "print(cm)\n",
    "\n",
    "print(f\"Training Accuracy: {train_acc:.4f}\")\n",
    "print(f\"Test Accuracy: {test_acc:.4f}\")\n",
    "\n",
    "print(f\"Training Log Loss: {train_loss:.4f}\")\n",
    "print(f\"Test Log Loss: {test_loss:.4f}\")\n",
    "\n",
    "\n",
    "train_precision = precision_score(y_train, train_preds, zero_division=0)\n",
    "test_precision = precision_score(y_test, test_preds, zero_division=0)\n",
    "\n",
    "train_recall = recall_score(y_train, train_preds, zero_division=0)\n",
    "test_recall = recall_score(y_test, test_preds, zero_division=0)\n",
    "\n",
    "train_f1 = f1_score(y_train, train_preds, zero_division=0)\n",
    "test_f1 = f1_score(y_test, test_preds, zero_division=0)\n",
    "\n",
    "print(f\"Training Precision: {train_precision:.4f}\")\n",
    "print(f\"Test Precision: {test_precision:.4f}\")\n",
    "\n",
    "print(f\"Training Recall: {train_recall:.4f}\")\n",
    "print(f\"Test Recall: {test_recall:.4f}\")\n",
    "\n",
    "print(f\"Training F1-score: {train_f1:.4f}\")\n",
    "print(f\"Test F1-score: {test_f1:.4f}\")"
   ]
  },
  {
   "cell_type": "markdown",
   "metadata": {},
   "source": [
    "kNN\n"
   ]
  },
  {
   "cell_type": "code",
   "execution_count": 97,
   "metadata": {},
   "outputs": [
    {
     "name": "stdout",
     "output_type": "stream",
     "text": [
      "fold 1\n",
      "Fold 1 - Train Accuracy: 0.9862, Train Loss: 0.4597, Test Accuracy: 0.9855, Test Loss: 0.4779\n",
      "Fold 1 - Confusion Matrix:\n",
      "[[14051   251]\n",
      " [  209 17283]]\n",
      "\n",
      "fold 2\n",
      "Fold 2 - Train Accuracy: 0.9854, Train Loss: 0.4657, Test Accuracy: 0.9848, Test Loss: 0.4808\n",
      "Fold 2 - Confusion Matrix:\n",
      "[[13962   224]\n",
      " [  260 17348]]\n",
      "\n",
      "fold 3\n",
      "Fold 3 - Train Accuracy: 0.9860, Train Loss: 0.4627, Test Accuracy: 0.9863, Test Loss: 0.4518\n",
      "Fold 3 - Confusion Matrix:\n",
      "[[14142   207]\n",
      " [  228 17217]]\n",
      "\n",
      "fold 4\n",
      "Fold 4 - Train Accuracy: 0.9853, Train Loss: 0.4610, Test Accuracy: 0.9854, Test Loss: 0.4617\n",
      "Fold 4 - Confusion Matrix:\n",
      "[[13986   227]\n",
      " [  236 17344]]\n",
      "\n",
      "fold 5\n",
      "Fold 5 - Train Accuracy: 0.9862, Train Loss: 0.4574, Test Accuracy: 0.9855, Test Loss: 0.4924\n",
      "Fold 5 - Confusion Matrix:\n",
      "[[14135   227]\n",
      " [  233 17198]]\n",
      "\n"
     ]
    }
   ],
   "source": [
    "\n",
    "\n",
    "#initial k value, optimal value will be determined later\n",
    "k = 5\n",
    "\n",
    "accuracies_train = []\n",
    "losses_train = []\n",
    "knn_accuracies_test = []\n",
    "losses_test = []\n",
    "confusion_matrices = [] \n",
    "\n",
    "for i, fold in enumerate(folds_data):\n",
    "    print(f\"fold {i+1}\")\n",
    "\n",
    "    X_train = fold['X_train']\n",
    "    y_train = fold['y_train']\n",
    "    X_test = fold['X_test']\n",
    "    y_test = fold['y_test']\n",
    "\n",
    "    knn_model = KNeighborsClassifier(n_neighbors=k, weights='distance')\n",
    "    knn_model.fit(X_train, y_train)\n",
    "\n",
    "    y_pred = knn_model.predict(X_test)\n",
    "\n",
    "    y_train_pred = knn_model.predict(X_train)\n",
    "    y_train_pred_proba = knn_model.predict_proba(X_train)\n",
    "    accuracy_train = accuracy_score(y_train, y_train_pred)\n",
    "    loss_train = log_loss(y_train, y_train_pred_proba)\n",
    "\n",
    "    y_test_pred = knn_model.predict(X_test)\n",
    "    y_test_pred_proba = knn_model.predict_proba(X_test)\n",
    "    accuracy_test = accuracy_score(y_test, y_test_pred)\n",
    "    loss_test = log_loss(y_test, y_test_pred_proba)\n",
    "\n",
    "    cm = confusion_matrix(y_test, y_test_pred)\n",
    "\n",
    "\n",
    "    accuracies_train.append(accuracy_train)\n",
    "    losses_train.append(loss_train)\n",
    "    knn_accuracies_test.append(accuracy_test)\n",
    "    losses_test.append(loss_test)\n",
    "\n",
    "    ## perf metrics\n",
    "    print(f\"Fold {i+1} - Train Accuracy: {accuracy_train:.4f}, Train Loss: {loss_train:.4f}, Test Accuracy: {accuracy_test:.4f}, Test Loss: {loss_test:.4f}\")\n",
    "    print(f\"Fold {i+1} - Confusion Matrix:\\n{cm}\\n\")\n",
    "\n"
   ]
  },
  {
   "cell_type": "markdown",
   "metadata": {},
   "source": [
    "Find Optimal K value (hpt)"
   ]
  },
  {
   "cell_type": "code",
   "execution_count": 98,
   "metadata": {},
   "outputs": [
    {
     "name": "stdout",
     "output_type": "stream",
     "text": [
      "best k: 5\n"
     ]
    }
   ],
   "source": [
    "param_grid = {'n_neighbors': range(1, 31)} \n",
    "\n",
    "grid_search = GridSearchCV(KNeighborsClassifier(weights='distance'), param_grid, cv=5, scoring='accuracy', n_jobs=-1)\n",
    "\n",
    "grid_search.fit(X_train, y_train)\n",
    "\n",
    "print(\"best k:\", grid_search.best_params_['n_neighbors'])\n"
   ]
  },
  {
   "cell_type": "code",
   "execution_count": null,
   "metadata": {},
   "outputs": [
    {
     "name": "stdout",
     "output_type": "stream",
     "text": [
      "[[14135   227]\n",
      " [  233 17198]]\n",
      "acc:  0.9855314062844023\n"
     ]
    }
   ],
   "source": [
    "knn_cm = confusion_matrix(y_test, y_pred)\n",
    "print(knn_cm)\n",
    "knn_acc = accuracy_score(y_test, y_pred)\n",
    "print(\"acc: \", knn_acc)"
   ]
  },
  {
   "cell_type": "markdown",
   "metadata": {},
   "source": [
    "Statistical Testing"
   ]
  },
  {
   "cell_type": "code",
   "execution_count": 101,
   "metadata": {},
   "outputs": [
    {
     "data": {
      "image/png": "[encoded data removed]",
      "text/plain": [
       "<Figure size 600x600 with 1 Axes>"
      ]
     },
     "metadata": {},
     "output_type": "display_data"
    }
   ],
   "source": [
    "import matplotlib.pyplot as plt\n",
    "import seaborn as sns\n",
    "\n",
    "sns.histplot(lfs_data[target_col], bins=30, kde=True)\n",
    "plt.title(\"Histogram of Target Variable\")\n",
    "plt.show()\n"
   ]
  },
  {
   "cell_type": "code",
   "execution_count": null,
   "metadata": {},
   "outputs": [
    {
     "name": "stdout",
     "output_type": "stream",
     "text": [
      " LR Accuracies: [0.985657671258728, 0.986003648487136, 0.9866012455180223, 0.9865379171515742, 0.985720127071997]\n",
      " DT Accuracies: [0.98465119 0.98493426 0.9853746  0.9854685  0.9849967 ]\n",
      " KNN Accuracies: [0.98553186 0.984777   0.98631817 0.98543705 0.98553141]\n",
      "Friedman Test: Chi-square statistic = 7.6000000000000085 , p-value = 0.0223707718561655\n",
      "\n",
      "Significant difference detected! Running McNemar’s test...\n",
      "\n",
      "LR vs DT: McNemar's p-value = 1.0\n",
      "No significant difference between LR and DT.\n",
      "\n",
      "LR vs KNN: McNemar's p-value = 1.0\n",
      "No significant difference between LR and KNN.\n",
      "\n",
      "DT vs KNN: McNemar's p-value = 1.0\n",
      "No significant difference between DT and KNN.\n",
      "\n"
     ]
    }
   ],
   "source": [
    "from scipy.stats import friedmanchisquare, wilcoxon\n",
    "from statsmodels.stats.contingency_tables import mcnemar\n",
    "import scikit_posthocs as sp\n",
    "\n",
    "print(\" LR Accuracies:\", lr_accuracies_test)\n",
    "print(\" DT Accuracies:\", dt_accuracies_test)\n",
    "print(\" KNN Accuracies:\", knn_accuracies_test)\n",
    "\n",
    "dt_accuracies_test = np.array(dt_accuracies_test)\n",
    "knn_accuracies_test = np.array(knn_accuracies_test) \n",
    "rf_accuracies_test = np.array(lr_accuracies_test) \n",
    "\n",
    "data = np.vstack((lr_accuracies_test, dt_accuracies_test, knn_accuracies_test)).T\n",
    "\n",
    "f_stat, p_value = friedmanchisquare(lr_accuracies_test, dt_accuracies_test, knn_accuracies_test)\n",
    "print(\"Friedman Test: Chi-square statistic =\", f_stat, \", p-value =\", p_value)\n",
    "\n",
    "\n",
    "## idk what im doing\n",
    "alpha = 0.05\n",
    "if p_value < alpha:\n",
    "    print(\"\\nSignificant difference detected! Running McNemar’s test...\\n\")\n",
    "\n",
    "\n",
    "    lr_preds = np.array([1, 1, 0, 1, 1])  \n",
    "    dt_preds = np.array([1, 1, 1, 0, 1])  \n",
    "    knn_preds = np.array([0, 1, 1, 1, 1])  \n",
    "\n",
    "    def run_mcnemar(model1, model2, name1, name2):\n",
    "        \"\"\"Runs McNemar's test between two classifiers.\"\"\"\n",
    "        table = np.zeros((2, 2))\n",
    "        for i in range(len(model1)):\n",
    "            table[model1[i], model2[i]] += 1  \n",
    "\n",
    "        result = mcnemar(table, exact=True)\n",
    "        print(f\"{name1} vs {name2}: McNemar's p-value = {result.pvalue}\")\n",
    "\n",
    "        if result.pvalue < 0.05:\n",
    "            print(f\"Significant difference between {name1} and {name2}!\\n\")\n",
    "        else:\n",
    "            print(f\"No significant difference between {name1} and {name2}.\\n\")\n",
    "\n",
    "    run_mcnemar(lr_preds, dt_preds, \"LR\", \"DT\")\n",
    "    run_mcnemar(lr_preds, knn_preds, \"LR\", \"KNN\")\n",
    "    run_mcnemar(dt_preds, knn_preds, \"DT\", \"KNN\")\n",
    "\n",
    "else:\n",
    "    print(\"\\nNo significant difference detected. McNemar's test is unnecessary.\")"
   ]
  }
 ],
 "metadata": {
  "kernelspec": {
   "display_name": "Python 3",
   "language": "python",
   "name": "python3"
  },
  "language_info": {
   "codemirror_mode": {
    "name": "ipython",
    "version": 3
   },
   "file_extension": ".py",
   "mimetype": "text/x-python",
   "name": "python",
   "nbconvert_exporter": "python",
   "pygments_lexer": "ipython3",
   "version": "3.12.2"
  }
 },
 "nbformat": 4,
 "nbformat_minor": 4
}
